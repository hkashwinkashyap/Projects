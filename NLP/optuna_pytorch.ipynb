{
  "nbformat": 4,
  "nbformat_minor": 0,
  "metadata": {
    "colab": {
      "provenance": [],
      "gpuType": "T4"
    },
    "kernelspec": {
      "name": "python3",
      "display_name": "Python 3"
    },
    "language_info": {
      "name": "python"
    },
    "accelerator": "GPU"
  },
  "cells": [
    {
      "cell_type": "code",
      "source": [
        "!pip install optuna"
      ],
      "metadata": {
        "colab": {
          "base_uri": "https://localhost:8080/"
        },
        "id": "7bSGkCul-FSV",
        "outputId": "42b939dc-98c2-40e8-832c-b3a7aae5e134"
      },
      "execution_count": 14,
      "outputs": [
        {
          "output_type": "stream",
          "name": "stdout",
          "text": [
            "Requirement already satisfied: optuna in /usr/local/lib/python3.10/dist-packages (3.2.0)\n",
            "Requirement already satisfied: alembic>=1.5.0 in /usr/local/lib/python3.10/dist-packages (from optuna) (1.11.1)\n",
            "Requirement already satisfied: cmaes>=0.9.1 in /usr/local/lib/python3.10/dist-packages (from optuna) (0.9.1)\n",
            "Requirement already satisfied: colorlog in /usr/local/lib/python3.10/dist-packages (from optuna) (6.7.0)\n",
            "Requirement already satisfied: numpy in /usr/local/lib/python3.10/dist-packages (from optuna) (1.22.4)\n",
            "Requirement already satisfied: packaging>=20.0 in /usr/local/lib/python3.10/dist-packages (from optuna) (23.1)\n",
            "Requirement already satisfied: sqlalchemy>=1.3.0 in /usr/local/lib/python3.10/dist-packages (from optuna) (2.0.18)\n",
            "Requirement already satisfied: tqdm in /usr/local/lib/python3.10/dist-packages (from optuna) (4.65.0)\n",
            "Requirement already satisfied: PyYAML in /usr/local/lib/python3.10/dist-packages (from optuna) (6.0)\n",
            "Requirement already satisfied: Mako in /usr/local/lib/python3.10/dist-packages (from alembic>=1.5.0->optuna) (1.2.4)\n",
            "Requirement already satisfied: typing-extensions>=4 in /usr/local/lib/python3.10/dist-packages (from alembic>=1.5.0->optuna) (4.7.1)\n",
            "Requirement already satisfied: greenlet!=0.4.17 in /usr/local/lib/python3.10/dist-packages (from sqlalchemy>=1.3.0->optuna) (2.0.2)\n",
            "Requirement already satisfied: MarkupSafe>=0.9.2 in /usr/local/lib/python3.10/dist-packages (from Mako->alembic>=1.5.0->optuna) (2.1.3)\n"
          ]
        }
      ]
    },
    {
      "cell_type": "code",
      "execution_count": 15,
      "metadata": {
        "id": "SgqrUQ4_9ccR"
      },
      "outputs": [],
      "source": [
        "import os\n",
        "import optuna\n",
        "from optuna.trial import TrialState\n",
        "import torch\n",
        "import torch.nn as nn\n",
        "import torch.nn.functional as F\n",
        "import torch.optim as optim\n",
        "import torch.utils.data\n",
        "from torchvision import datasets\n",
        "from torchvision import transforms"
      ]
    },
    {
      "cell_type": "code",
      "source": [
        "DEVICE = torch.device('cpu')\n",
        "BATCHSIZE = 128\n",
        "CLASSES = 10\n",
        "DIR = os.getcwd()"
      ],
      "metadata": {
        "id": "6c4C-Vio-B1L"
      },
      "execution_count": 16,
      "outputs": []
    },
    {
      "cell_type": "code",
      "source": [
        "EPOCHS = 10\n",
        "N_TRAIN_EXAMPLES = BATCHSIZE * 30\n",
        "N_EVAL_EXAMPLES =BATCHSIZE * 10"
      ],
      "metadata": {
        "id": "wgnppTpX-8-9"
      },
      "execution_count": 17,
      "outputs": []
    },
    {
      "cell_type": "code",
      "source": [
        "def defining_model(trial):\n",
        "  n_layers = trial.suggest_int('n_layers', 1,3)\n",
        "  layers = []\n",
        "  in_features = 28*28\n",
        "  for i in range(n_layers):\n",
        "    out_features = trial.suggest_int('n_units_l{}'.format(i),4,128)\n",
        "    layers.append(nn.Linear(in_features,out_features))\n",
        "    layers.append(nn.ReLU())\n",
        "    p = trial.suggest_float('dropout_l{}'.format(i),0.2,0.5)\n",
        "    layers.append(nn.Dropout(p))\n",
        "    in_features = out_features\n",
        "\n",
        "  layers.append(nn.Linear(in_features,CLASSES))\n",
        "  layers.append(nn.LogSoftmax(dim=1))\n",
        "\n",
        "  return nn.Sequential(*layers)"
      ],
      "metadata": {
        "id": "SBE3uhoM_MpH"
      },
      "execution_count": 18,
      "outputs": []
    },
    {
      "cell_type": "code",
      "source": [
        "from random import shuffle\n",
        "def get_mnist():\n",
        "  train_loader = torch.utils.data.DataLoader(\n",
        "      datasets.FashionMNIST(DIR,train=True,download=True,transform=transforms.ToTensor()),\n",
        "      batch_size = BATCHSIZE,\n",
        "      shuffle=True\n",
        "  )\n",
        "\n",
        "  eval_loader = torch.utils.data.DataLoader(\n",
        "      datasets.FashionMNIST(DIR,train=False,download=True,transform=transforms.ToTensor()),\n",
        "      batch_size = BATCHSIZE,\n",
        "      shuffle=True\n",
        "  )\n",
        "\n",
        "  return train_loader,eval_loader"
      ],
      "metadata": {
        "id": "ZumfZanMBakL"
      },
      "execution_count": 19,
      "outputs": []
    },
    {
      "cell_type": "code",
      "source": [
        "def objective(trial):\n",
        "  model = defining_model(trial).to(DEVICE)\n",
        "\n",
        "  optimizer_name = trial.suggest_categorical('optimizer',['Adam','RMSprop','SGD'])\n",
        "  lr = trial.suggest_float('lr',1e-5,1e-1,log=True)\n",
        "  optimizer = getattr(optim,optimizer_name)(model.parameters(),lr=lr)\n",
        "\n",
        "  train_loader,valid_loader = get_mnist()\n",
        "\n",
        "  for epoch in range(EPOCHS):\n",
        "    model.train()\n",
        "    for batch_id,(data,target) in enumerate(train_loader):\n",
        "      if batch_id*BATCHSIZE >= N_TRAIN_EXAMPLES:\n",
        "        break\n",
        "\n",
        "      data,target = data.view(data.size(0),-1).to(DEVICE),target.to(DEVICE)\n",
        "\n",
        "      optimizer.zero_grad()\n",
        "      output=model(data)\n",
        "      loss=F.nll_loss(output,target)\n",
        "      loss.backward()\n",
        "      optimizer.step()\n",
        "\n",
        "    model.eval()\n",
        "    correct=0\n",
        "    with torch.no_grad():\n",
        "      for batch_id,(data,target) in enumerate(valid_loader):\n",
        "        if batch_id*BATCHSIZE >= N_EVAL_EXAMPLES:\n",
        "          break\n",
        "        data,target = data.view(data.size(0),-1).to(DEVICE),target.to(DEVICE)\n",
        "        output=model(data)\n",
        "        pred=output.argmax(dim=1,keepdim=True)\n",
        "        correct+=pred.eq(target.view_as(pred)).sum().item()\n",
        "\n",
        "    accuracy = correct / min(len(valid_loader.dataset),N_EVAL_EXAMPLES)\n",
        "\n",
        "    trial.report(accuracy,epoch)\n",
        "\n",
        "    if trial.should_prune():\n",
        "      raise optuna.exceptions.TrialPruned()\n",
        "\n",
        "  return accuracy"
      ],
      "metadata": {
        "id": "sU3FJjiZCge4"
      },
      "execution_count": 20,
      "outputs": []
    },
    {
      "cell_type": "code",
      "source": [
        "from traitlets.config import deepcopy\n",
        "from optuna.exceptions import TrialPruned\n",
        "study = optuna.create_study(direction='maximize')\n",
        "study.optimize(objective,n_trials=100,timeout=600)\n",
        "\n",
        "pruned_trials = study.get_trials(deepcopy=False,states=[TrialState.PRUNED])\n",
        "complete_trials = study.get_trials(deepcopy=False,states=[TrialState.COMPLETE])\n",
        "\n",
        "print(\"States:\")\n",
        "print('Number of finished trials: ',len(study.trials))\n",
        "print('Number of pruned trials: ',len(pruned_trials))\n",
        "print('Number of completed trials: ',len(complete_trials))\n",
        "\n",
        "print('Best trial: ')\n",
        "trial = study.best_trial\n",
        "print('Value: ',trial.value)\n",
        "\n",
        "print('Params: ')\n",
        "for key,value in trial.params.items():\n",
        "  print(' {}: {}'.format(key,value))"
      ],
      "metadata": {
        "colab": {
          "base_uri": "https://localhost:8080/"
        },
        "id": "KegRhCS_G7A6",
        "outputId": "cfc48584-3faa-41cf-e3fa-5113b1c354ad"
      },
      "execution_count": 21,
      "outputs": [
        {
          "output_type": "stream",
          "name": "stderr",
          "text": [
            "[I 2023-07-15 22:17:01,262] A new study created in memory with name: no-name-9fd692af-44d3-4804-a5c3-d59906995144\n",
            "[I 2023-07-15 22:17:14,435] Trial 0 finished with value: 0.69765625 and parameters: {'n_layers': 1, 'n_units_l0': 62, 'dropout_l0': 0.331244223496697, 'optimizer': 'RMSprop', 'lr': 0.02789266713198426}. Best is trial 0 with value: 0.69765625.\n",
            "[I 2023-07-15 22:17:22,442] Trial 1 finished with value: 0.29375 and parameters: {'n_layers': 2, 'n_units_l0': 89, 'dropout_l0': 0.25328485625039776, 'n_units_l1': 51, 'dropout_l1': 0.26421383494670536, 'optimizer': 'Adam', 'lr': 0.09221156127626035}. Best is trial 0 with value: 0.69765625.\n",
            "[I 2023-07-15 22:17:31,430] Trial 2 finished with value: 0.71953125 and parameters: {'n_layers': 3, 'n_units_l0': 58, 'dropout_l0': 0.21178493042116792, 'n_units_l1': 111, 'dropout_l1': 0.2915055125070459, 'n_units_l2': 25, 'dropout_l2': 0.2847110344208915, 'optimizer': 'Adam', 'lr': 0.0005859466783321401}. Best is trial 2 with value: 0.71953125.\n",
            "[I 2023-07-15 22:17:39,990] Trial 3 finished with value: 0.6375 and parameters: {'n_layers': 1, 'n_units_l0': 9, 'dropout_l0': 0.28488074671935104, 'optimizer': 'Adam', 'lr': 0.02236137580077203}. Best is trial 2 with value: 0.71953125.\n",
            "[I 2023-07-15 22:17:48,064] Trial 4 finished with value: 0.13203125 and parameters: {'n_layers': 3, 'n_units_l0': 120, 'dropout_l0': 0.3729475263475497, 'n_units_l1': 89, 'dropout_l1': 0.20007454700625243, 'n_units_l2': 70, 'dropout_l2': 0.4196317404135215, 'optimizer': 'SGD', 'lr': 0.0037175102680556764}. Best is trial 2 with value: 0.71953125.\n",
            "[I 2023-07-15 22:17:56,734] Trial 5 finished with value: 0.82734375 and parameters: {'n_layers': 1, 'n_units_l0': 120, 'dropout_l0': 0.22275479624790095, 'optimizer': 'RMSprop', 'lr': 0.0016020219590792354}. Best is trial 5 with value: 0.82734375.\n",
            "[I 2023-07-15 22:17:57,553] Trial 6 pruned. \n",
            "[I 2023-07-15 22:17:58,425] Trial 7 pruned. \n",
            "[I 2023-07-15 22:18:07,324] Trial 8 finished with value: 0.7890625 and parameters: {'n_layers': 1, 'n_units_l0': 126, 'dropout_l0': 0.49316664352808737, 'optimizer': 'Adam', 'lr': 0.0008627942432508634}. Best is trial 5 with value: 0.82734375.\n",
            "[I 2023-07-15 22:18:08,188] Trial 9 pruned. \n",
            "[I 2023-07-15 22:18:17,323] Trial 10 finished with value: 0.734375 and parameters: {'n_layers': 1, 'n_units_l0': 102, 'dropout_l0': 0.20151080146022582, 'optimizer': 'RMSprop', 'lr': 8.135134148396806e-05}. Best is trial 5 with value: 0.82734375.\n",
            "[I 2023-07-15 22:18:25,608] Trial 11 finished with value: 0.78125 and parameters: {'n_layers': 1, 'n_units_l0': 127, 'dropout_l0': 0.39971364954338584, 'optimizer': 'RMSprop', 'lr': 0.000714552255251704}. Best is trial 5 with value: 0.82734375.\n",
            "[I 2023-07-15 22:18:26,519] Trial 12 pruned. \n",
            "[I 2023-07-15 22:18:35,299] Trial 13 finished with value: 0.78671875 and parameters: {'n_layers': 1, 'n_units_l0': 110, 'dropout_l0': 0.3457541227410647, 'optimizer': 'RMSprop', 'lr': 0.0002223134913247864}. Best is trial 5 with value: 0.82734375.\n",
            "[I 2023-07-15 22:18:36,176] Trial 14 pruned. \n",
            "[I 2023-07-15 22:18:37,138] Trial 15 pruned. \n",
            "[I 2023-07-15 22:18:45,657] Trial 16 finished with value: 0.80234375 and parameters: {'n_layers': 1, 'n_units_l0': 33, 'dropout_l0': 0.250175892621313, 'optimizer': 'RMSprop', 'lr': 0.000836498516721243}. Best is trial 5 with value: 0.82734375.\n",
            "[I 2023-07-15 22:18:46,531] Trial 17 pruned. \n",
            "[I 2023-07-15 22:18:55,143] Trial 18 finished with value: 0.8234375 and parameters: {'n_layers': 1, 'n_units_l0': 39, 'dropout_l0': 0.23701574581812285, 'optimizer': 'RMSprop', 'lr': 0.002207503502150639}. Best is trial 5 with value: 0.82734375.\n",
            "[I 2023-07-15 22:18:56,026] Trial 19 pruned. \n",
            "[I 2023-07-15 22:19:03,980] Trial 20 finished with value: 0.83671875 and parameters: {'n_layers': 1, 'n_units_l0': 77, 'dropout_l0': 0.28506023577047573, 'optimizer': 'RMSprop', 'lr': 0.00684203595811196}. Best is trial 20 with value: 0.83671875.\n",
            "[I 2023-07-15 22:19:13,009] Trial 21 finished with value: 0.81484375 and parameters: {'n_layers': 1, 'n_units_l0': 78, 'dropout_l0': 0.2782322903512672, 'optimizer': 'RMSprop', 'lr': 0.007004221837771281}. Best is trial 20 with value: 0.83671875.\n",
            "[I 2023-07-15 22:19:13,862] Trial 22 pruned. \n",
            "[I 2023-07-15 22:19:14,755] Trial 23 pruned. \n",
            "[I 2023-07-15 22:19:15,619] Trial 24 pruned. \n",
            "[I 2023-07-15 22:19:24,364] Trial 25 finished with value: 0.83046875 and parameters: {'n_layers': 1, 'n_units_l0': 75, 'dropout_l0': 0.30792222793763124, 'optimizer': 'RMSprop', 'lr': 0.001553241341369985}. Best is trial 20 with value: 0.83671875.\n",
            "[I 2023-07-15 22:19:25,238] Trial 26 pruned. \n",
            "[I 2023-07-15 22:19:34,102] Trial 27 finished with value: 0.7984375 and parameters: {'n_layers': 1, 'n_units_l0': 112, 'dropout_l0': 0.31009366425394086, 'optimizer': 'RMSprop', 'lr': 0.001245795540312726}. Best is trial 20 with value: 0.83671875.\n",
            "[I 2023-07-15 22:19:42,228] Trial 28 finished with value: 0.821875 and parameters: {'n_layers': 1, 'n_units_l0': 84, 'dropout_l0': 0.2610915366984632, 'optimizer': 'RMSprop', 'lr': 0.0053641536397737565}. Best is trial 20 with value: 0.83671875.\n",
            "[I 2023-07-15 22:19:43,467] Trial 29 pruned. \n",
            "[I 2023-07-15 22:19:44,720] Trial 30 pruned. \n",
            "[I 2023-07-15 22:19:46,315] Trial 31 pruned. \n",
            "[I 2023-07-15 22:19:50,279] Trial 32 pruned. \n",
            "[I 2023-07-15 22:19:51,140] Trial 33 pruned. \n",
            "[I 2023-07-15 22:19:52,789] Trial 34 pruned. \n",
            "[I 2023-07-15 22:19:53,668] Trial 35 pruned. \n",
            "[I 2023-07-15 22:20:02,453] Trial 36 finished with value: 0.79375 and parameters: {'n_layers': 1, 'n_units_l0': 62, 'dropout_l0': 0.29396093749885993, 'optimizer': 'RMSprop', 'lr': 0.0035354034203030336}. Best is trial 20 with value: 0.83671875.\n",
            "[I 2023-07-15 22:20:03,391] Trial 37 pruned. \n",
            "[I 2023-07-15 22:20:04,247] Trial 38 pruned. \n",
            "[I 2023-07-15 22:20:05,154] Trial 39 pruned. \n",
            "[I 2023-07-15 22:20:14,049] Trial 40 finished with value: 0.81328125 and parameters: {'n_layers': 1, 'n_units_l0': 115, 'dropout_l0': 0.215082228396297, 'optimizer': 'RMSprop', 'lr': 0.0009209675693828062}. Best is trial 20 with value: 0.83671875.\n",
            "[I 2023-07-15 22:20:22,839] Trial 41 finished with value: 0.81015625 and parameters: {'n_layers': 1, 'n_units_l0': 87, 'dropout_l0': 0.2636766249801287, 'optimizer': 'RMSprop', 'lr': 0.005314652519411994}. Best is trial 20 with value: 0.83671875.\n",
            "[I 2023-07-15 22:20:25,281] Trial 42 pruned. \n",
            "[I 2023-07-15 22:20:34,115] Trial 43 finished with value: 0.821875 and parameters: {'n_layers': 1, 'n_units_l0': 101, 'dropout_l0': 0.2800592507276116, 'optimizer': 'RMSprop', 'lr': 0.0026880052033317003}. Best is trial 20 with value: 0.83671875.\n",
            "[I 2023-07-15 22:20:42,090] Trial 44 finished with value: 0.82265625 and parameters: {'n_layers': 1, 'n_units_l0': 56, 'dropout_l0': 0.23582551377270833, 'optimizer': 'RMSprop', 'lr': 0.0018202812036584373}. Best is trial 20 with value: 0.83671875.\n",
            "[I 2023-07-15 22:20:42,992] Trial 45 pruned. \n",
            "[I 2023-07-15 22:20:43,838] Trial 46 pruned. \n",
            "[I 2023-07-15 22:20:44,952] Trial 47 pruned. \n",
            "[I 2023-07-15 22:20:46,205] Trial 48 pruned. \n",
            "[I 2023-07-15 22:20:47,271] Trial 49 pruned. \n",
            "[I 2023-07-15 22:20:48,190] Trial 50 pruned. \n",
            "[I 2023-07-15 22:20:56,133] Trial 51 finished with value: 0.8328125 and parameters: {'n_layers': 1, 'n_units_l0': 81, 'dropout_l0': 0.23813428303125464, 'optimizer': 'RMSprop', 'lr': 0.006461969014422501}. Best is trial 20 with value: 0.83671875.\n",
            "[I 2023-07-15 22:20:59,390] Trial 52 pruned. \n",
            "[I 2023-07-15 22:21:07,277] Trial 53 finished with value: 0.83125 and parameters: {'n_layers': 1, 'n_units_l0': 80, 'dropout_l0': 0.2717270138839856, 'optimizer': 'RMSprop', 'lr': 0.0037535968121051163}. Best is trial 20 with value: 0.83671875.\n",
            "[I 2023-07-15 22:21:10,017] Trial 54 pruned. \n",
            "[I 2023-07-15 22:21:12,274] Trial 55 pruned. \n",
            "[I 2023-07-15 22:21:13,989] Trial 56 pruned. \n",
            "[I 2023-07-15 22:21:16,379] Trial 57 pruned. \n",
            "[I 2023-07-15 22:21:17,258] Trial 58 pruned. \n",
            "[I 2023-07-15 22:21:18,171] Trial 59 pruned. \n",
            "[I 2023-07-15 22:21:27,063] Trial 60 finished with value: 0.825 and parameters: {'n_layers': 1, 'n_units_l0': 106, 'dropout_l0': 0.2470603455364857, 'optimizer': 'Adam', 'lr': 0.0023023412931456886}. Best is trial 20 with value: 0.83671875.\n",
            "[I 2023-07-15 22:21:36,150] Trial 61 finished with value: 0.81171875 and parameters: {'n_layers': 1, 'n_units_l0': 107, 'dropout_l0': 0.2729478438357546, 'optimizer': 'Adam', 'lr': 0.0043020404182645714}. Best is trial 20 with value: 0.83671875.\n",
            "[I 2023-07-15 22:21:44,605] Trial 62 finished with value: 0.8375 and parameters: {'n_layers': 1, 'n_units_l0': 119, 'dropout_l0': 0.24300540230949041, 'optimizer': 'Adam', 'lr': 0.002203014725245467}. Best is trial 62 with value: 0.8375.\n",
            "[I 2023-07-15 22:21:46,328] Trial 63 pruned. \n",
            "[I 2023-07-15 22:21:47,579] Trial 64 pruned. \n",
            "[I 2023-07-15 22:21:49,011] Trial 65 pruned. \n",
            "[I 2023-07-15 22:21:57,223] Trial 66 finished with value: 0.84921875 and parameters: {'n_layers': 1, 'n_units_l0': 119, 'dropout_l0': 0.22721364445843398, 'optimizer': 'Adam', 'lr': 0.0032396800330392423}. Best is trial 66 with value: 0.84921875.\n",
            "[I 2023-07-15 22:21:58,138] Trial 67 pruned. \n",
            "[I 2023-07-15 22:22:07,162] Trial 68 finished with value: 0.8328125 and parameters: {'n_layers': 1, 'n_units_l0': 122, 'dropout_l0': 0.2125659035359981, 'optimizer': 'Adam', 'lr': 0.007019329923564695}. Best is trial 66 with value: 0.84921875.\n",
            "[I 2023-07-15 22:22:16,371] Trial 69 finished with value: 0.8453125 and parameters: {'n_layers': 1, 'n_units_l0': 122, 'dropout_l0': 0.20802193020313925, 'optimizer': 'Adam', 'lr': 0.00625615268522202}. Best is trial 66 with value: 0.84921875.\n",
            "[I 2023-07-15 22:22:24,834] Trial 70 finished with value: 0.8140625 and parameters: {'n_layers': 1, 'n_units_l0': 122, 'dropout_l0': 0.20851411453491778, 'optimizer': 'Adam', 'lr': 0.013133788429789624}. Best is trial 66 with value: 0.84921875.\n",
            "[I 2023-07-15 22:22:33,734] Trial 71 finished with value: 0.81484375 and parameters: {'n_layers': 1, 'n_units_l0': 128, 'dropout_l0': 0.2218496559372824, 'optimizer': 'Adam', 'lr': 0.006608297536009819}. Best is trial 66 with value: 0.84921875.\n",
            "[I 2023-07-15 22:22:42,786] Trial 72 finished with value: 0.821875 and parameters: {'n_layers': 1, 'n_units_l0': 118, 'dropout_l0': 0.20918545445447626, 'optimizer': 'Adam', 'lr': 0.004655925511325205}. Best is trial 66 with value: 0.84921875.\n",
            "[I 2023-07-15 22:22:51,819] Trial 73 finished with value: 0.8375 and parameters: {'n_layers': 1, 'n_units_l0': 122, 'dropout_l0': 0.22622710067099802, 'optimizer': 'Adam', 'lr': 0.00816060385318468}. Best is trial 66 with value: 0.84921875.\n",
            "[I 2023-07-15 22:23:00,051] Trial 74 finished with value: 0.83359375 and parameters: {'n_layers': 1, 'n_units_l0': 124, 'dropout_l0': 0.2277120647982092, 'optimizer': 'Adam', 'lr': 0.011531663086145253}. Best is trial 66 with value: 0.84921875.\n",
            "[I 2023-07-15 22:23:09,260] Trial 75 finished with value: 0.81796875 and parameters: {'n_layers': 1, 'n_units_l0': 124, 'dropout_l0': 0.22604315943255798, 'optimizer': 'Adam', 'lr': 0.010724864257643}. Best is trial 66 with value: 0.84921875.\n",
            "[I 2023-07-15 22:23:11,753] Trial 76 pruned. \n",
            "[I 2023-07-15 22:23:20,765] Trial 77 finished with value: 0.80859375 and parameters: {'n_layers': 1, 'n_units_l0': 124, 'dropout_l0': 0.20090467835585363, 'optimizer': 'Adam', 'lr': 0.01632679349741625}. Best is trial 66 with value: 0.84921875.\n",
            "[I 2023-07-15 22:23:29,785] Trial 78 finished with value: 0.8109375 and parameters: {'n_layers': 1, 'n_units_l0': 109, 'dropout_l0': 0.2285275501786049, 'optimizer': 'Adam', 'lr': 0.005979516395974272}. Best is trial 66 with value: 0.84921875.\n",
            "[I 2023-07-15 22:23:36,405] Trial 79 pruned. \n",
            "[I 2023-07-15 22:23:45,467] Trial 80 finished with value: 0.82578125 and parameters: {'n_layers': 1, 'n_units_l0': 118, 'dropout_l0': 0.21845109037451055, 'optimizer': 'Adam', 'lr': 0.007666781225488135}. Best is trial 66 with value: 0.84921875.\n",
            "[I 2023-07-15 22:23:54,603] Trial 81 finished with value: 0.85234375 and parameters: {'n_layers': 1, 'n_units_l0': 114, 'dropout_l0': 0.237830275839296, 'optimizer': 'Adam', 'lr': 0.005404841358921655}. Best is trial 81 with value: 0.85234375.\n",
            "[I 2023-07-15 22:24:02,786] Trial 82 finished with value: 0.82109375 and parameters: {'n_layers': 1, 'n_units_l0': 113, 'dropout_l0': 0.20788016730451922, 'optimizer': 'Adam', 'lr': 0.005636470770580669}. Best is trial 81 with value: 0.85234375.\n",
            "[I 2023-07-15 22:24:04,902] Trial 83 pruned. \n",
            "[I 2023-07-15 22:24:13,749] Trial 84 finished with value: 0.84609375 and parameters: {'n_layers': 1, 'n_units_l0': 115, 'dropout_l0': 0.22090169396792003, 'optimizer': 'Adam', 'lr': 0.007919941838453567}. Best is trial 81 with value: 0.85234375.\n",
            "[I 2023-07-15 22:24:22,551] Trial 85 pruned. \n",
            "[I 2023-07-15 22:24:31,689] Trial 86 finished with value: 0.81015625 and parameters: {'n_layers': 1, 'n_units_l0': 115, 'dropout_l0': 0.22253965386977298, 'optimizer': 'Adam', 'lr': 0.011465146250618743}. Best is trial 81 with value: 0.85234375.\n",
            "[I 2023-07-15 22:24:40,031] Trial 87 finished with value: 0.84921875 and parameters: {'n_layers': 1, 'n_units_l0': 110, 'dropout_l0': 0.2574896820445587, 'optimizer': 'Adam', 'lr': 0.008142955068639776}. Best is trial 81 with value: 0.85234375.\n",
            "[I 2023-07-15 22:24:41,763] Trial 88 pruned. \n",
            "[I 2023-07-15 22:24:46,137] Trial 89 pruned. \n",
            "[I 2023-07-15 22:24:54,478] Trial 90 finished with value: 0.83828125 and parameters: {'n_layers': 1, 'n_units_l0': 115, 'dropout_l0': 0.25290672497619093, 'optimizer': 'Adam', 'lr': 0.005143158197549486}. Best is trial 81 with value: 0.85234375.\n",
            "[I 2023-07-15 22:25:03,389] Trial 91 finished with value: 0.83125 and parameters: {'n_layers': 1, 'n_units_l0': 118, 'dropout_l0': 0.2547867808591181, 'optimizer': 'Adam', 'lr': 0.0048612427269280455}. Best is trial 81 with value: 0.85234375.\n",
            "[I 2023-07-15 22:25:04,324] Trial 92 pruned. \n",
            "[I 2023-07-15 22:25:05,261] Trial 93 pruned. \n",
            "[I 2023-07-15 22:25:06,213] Trial 94 pruned. \n",
            "[I 2023-07-15 22:25:07,214] Trial 95 pruned. \n",
            "[I 2023-07-15 22:25:08,528] Trial 96 pruned. \n",
            "[I 2023-07-15 22:25:09,751] Trial 97 pruned. \n",
            "[I 2023-07-15 22:25:10,666] Trial 98 pruned. \n",
            "[I 2023-07-15 22:25:12,416] Trial 99 pruned. \n"
          ]
        },
        {
          "output_type": "stream",
          "name": "stdout",
          "text": [
            "States:\n",
            "Number of finished trials:  100\n",
            "Number of pruned trials:  54\n",
            "Number of completed trials:  46\n",
            "Best trial: \n",
            "Value:  0.85234375\n",
            "Params: \n",
            " n_layers: 1\n",
            " n_units_l0: 114\n",
            " dropout_l0: 0.237830275839296\n",
            " optimizer: Adam\n",
            " lr: 0.005404841358921655\n"
          ]
        }
      ]
    },
    {
      "cell_type": "code",
      "source": [],
      "metadata": {
        "id": "pTHvM7hTI4Ag"
      },
      "execution_count": 21,
      "outputs": []
    }
  ]
}