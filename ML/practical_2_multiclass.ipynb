{
 "cells": [
  {
   "cell_type": "code",
   "execution_count": 1,
   "id": "7b1f5bb5",
   "metadata": {},
   "outputs": [
    {
     "data": {
      "text/html": [
       "<div>\n",
       "<style scoped>\n",
       "    .dataframe tbody tr th:only-of-type {\n",
       "        vertical-align: middle;\n",
       "    }\n",
       "\n",
       "    .dataframe tbody tr th {\n",
       "        vertical-align: top;\n",
       "    }\n",
       "\n",
       "    .dataframe thead th {\n",
       "        text-align: right;\n",
       "    }\n",
       "</style>\n",
       "<table border=\"1\" class=\"dataframe\">\n",
       "  <thead>\n",
       "    <tr style=\"text-align: right;\">\n",
       "      <th></th>\n",
       "      <th>0</th>\n",
       "      <th>1</th>\n",
       "      <th>2</th>\n",
       "      <th>3</th>\n",
       "      <th>4</th>\n",
       "      <th>5</th>\n",
       "      <th>6</th>\n",
       "      <th>7</th>\n",
       "      <th>8</th>\n",
       "      <th>9</th>\n",
       "      <th>...</th>\n",
       "      <th>954</th>\n",
       "      <th>955</th>\n",
       "      <th>956</th>\n",
       "      <th>957</th>\n",
       "      <th>958</th>\n",
       "      <th>959</th>\n",
       "      <th>960</th>\n",
       "      <th>961</th>\n",
       "      <th>962</th>\n",
       "      <th>963</th>\n",
       "    </tr>\n",
       "  </thead>\n",
       "  <tbody>\n",
       "    <tr>\n",
       "      <th>0</th>\n",
       "      <td>0.142099</td>\n",
       "      <td>0.081518</td>\n",
       "      <td>0.083921</td>\n",
       "      <td>0.126117</td>\n",
       "      <td>0.172096</td>\n",
       "      <td>0.100030</td>\n",
       "      <td>0.025462</td>\n",
       "      <td>0.059543</td>\n",
       "      <td>0.081057</td>\n",
       "      <td>0.154092</td>\n",
       "      <td>...</td>\n",
       "      <td>179.0</td>\n",
       "      <td>184.0</td>\n",
       "      <td>358.0</td>\n",
       "      <td>446.0</td>\n",
       "      <td>686.0</td>\n",
       "      <td>1102.0</td>\n",
       "      <td>297.0</td>\n",
       "      <td>42.0</td>\n",
       "      <td>16.0</td>\n",
       "      <td>5.0</td>\n",
       "    </tr>\n",
       "    <tr>\n",
       "      <th>1</th>\n",
       "      <td>0.248079</td>\n",
       "      <td>0.138499</td>\n",
       "      <td>0.066726</td>\n",
       "      <td>0.105121</td>\n",
       "      <td>0.196336</td>\n",
       "      <td>0.084412</td>\n",
       "      <td>0.244487</td>\n",
       "      <td>0.248079</td>\n",
       "      <td>0.104019</td>\n",
       "      <td>0.236483</td>\n",
       "      <td>...</td>\n",
       "      <td>185.0</td>\n",
       "      <td>125.0</td>\n",
       "      <td>115.0</td>\n",
       "      <td>91.0</td>\n",
       "      <td>138.0</td>\n",
       "      <td>109.0</td>\n",
       "      <td>87.0</td>\n",
       "      <td>59.0</td>\n",
       "      <td>23.0</td>\n",
       "      <td>10.0</td>\n",
       "    </tr>\n",
       "    <tr>\n",
       "      <th>2</th>\n",
       "      <td>0.193626</td>\n",
       "      <td>0.091769</td>\n",
       "      <td>0.180461</td>\n",
       "      <td>0.184008</td>\n",
       "      <td>0.217402</td>\n",
       "      <td>0.217402</td>\n",
       "      <td>0.217402</td>\n",
       "      <td>0.125612</td>\n",
       "      <td>0.121047</td>\n",
       "      <td>0.217402</td>\n",
       "      <td>...</td>\n",
       "      <td>373.0</td>\n",
       "      <td>266.0</td>\n",
       "      <td>152.0</td>\n",
       "      <td>52.0</td>\n",
       "      <td>34.0</td>\n",
       "      <td>31.0</td>\n",
       "      <td>44.0</td>\n",
       "      <td>48.0</td>\n",
       "      <td>9.0</td>\n",
       "      <td>6.0</td>\n",
       "    </tr>\n",
       "    <tr>\n",
       "      <th>3</th>\n",
       "      <td>0.123813</td>\n",
       "      <td>0.058378</td>\n",
       "      <td>0.097994</td>\n",
       "      <td>0.091008</td>\n",
       "      <td>0.206869</td>\n",
       "      <td>0.251324</td>\n",
       "      <td>0.251324</td>\n",
       "      <td>0.193339</td>\n",
       "      <td>0.156478</td>\n",
       "      <td>0.242829</td>\n",
       "      <td>...</td>\n",
       "      <td>649.0</td>\n",
       "      <td>646.0</td>\n",
       "      <td>532.0</td>\n",
       "      <td>158.0</td>\n",
       "      <td>77.0</td>\n",
       "      <td>36.0</td>\n",
       "      <td>31.0</td>\n",
       "      <td>18.0</td>\n",
       "      <td>5.0</td>\n",
       "      <td>6.0</td>\n",
       "    </tr>\n",
       "    <tr>\n",
       "      <th>4</th>\n",
       "      <td>0.226959</td>\n",
       "      <td>0.138531</td>\n",
       "      <td>0.114237</td>\n",
       "      <td>0.062622</td>\n",
       "      <td>0.193829</td>\n",
       "      <td>0.130002</td>\n",
       "      <td>0.147443</td>\n",
       "      <td>0.226959</td>\n",
       "      <td>0.226959</td>\n",
       "      <td>0.226959</td>\n",
       "      <td>...</td>\n",
       "      <td>47.0</td>\n",
       "      <td>83.0</td>\n",
       "      <td>87.0</td>\n",
       "      <td>63.0</td>\n",
       "      <td>61.0</td>\n",
       "      <td>35.0</td>\n",
       "      <td>24.0</td>\n",
       "      <td>17.0</td>\n",
       "      <td>8.0</td>\n",
       "      <td>4.0</td>\n",
       "    </tr>\n",
       "    <tr>\n",
       "      <th>...</th>\n",
       "      <td>...</td>\n",
       "      <td>...</td>\n",
       "      <td>...</td>\n",
       "      <td>...</td>\n",
       "      <td>...</td>\n",
       "      <td>...</td>\n",
       "      <td>...</td>\n",
       "      <td>...</td>\n",
       "      <td>...</td>\n",
       "      <td>...</td>\n",
       "      <td>...</td>\n",
       "      <td>...</td>\n",
       "      <td>...</td>\n",
       "      <td>...</td>\n",
       "      <td>...</td>\n",
       "      <td>...</td>\n",
       "      <td>...</td>\n",
       "      <td>...</td>\n",
       "      <td>...</td>\n",
       "      <td>...</td>\n",
       "      <td>...</td>\n",
       "    </tr>\n",
       "    <tr>\n",
       "      <th>62205</th>\n",
       "      <td>0.188325</td>\n",
       "      <td>0.127270</td>\n",
       "      <td>0.209042</td>\n",
       "      <td>0.253201</td>\n",
       "      <td>0.253201</td>\n",
       "      <td>0.106920</td>\n",
       "      <td>0.124544</td>\n",
       "      <td>0.050251</td>\n",
       "      <td>0.059478</td>\n",
       "      <td>0.216902</td>\n",
       "      <td>...</td>\n",
       "      <td>431.0</td>\n",
       "      <td>374.0</td>\n",
       "      <td>331.0</td>\n",
       "      <td>206.0</td>\n",
       "      <td>166.0</td>\n",
       "      <td>133.0</td>\n",
       "      <td>85.0</td>\n",
       "      <td>33.0</td>\n",
       "      <td>13.0</td>\n",
       "      <td>5.0</td>\n",
       "    </tr>\n",
       "    <tr>\n",
       "      <th>62206</th>\n",
       "      <td>0.285676</td>\n",
       "      <td>0.285676</td>\n",
       "      <td>0.176533</td>\n",
       "      <td>0.285676</td>\n",
       "      <td>0.285676</td>\n",
       "      <td>0.110198</td>\n",
       "      <td>0.086257</td>\n",
       "      <td>0.081887</td>\n",
       "      <td>0.104064</td>\n",
       "      <td>0.214225</td>\n",
       "      <td>...</td>\n",
       "      <td>70.0</td>\n",
       "      <td>21.0</td>\n",
       "      <td>6.0</td>\n",
       "      <td>0.0</td>\n",
       "      <td>2.0</td>\n",
       "      <td>1.0</td>\n",
       "      <td>2.0</td>\n",
       "      <td>1.0</td>\n",
       "      <td>3.0</td>\n",
       "      <td>1.0</td>\n",
       "    </tr>\n",
       "    <tr>\n",
       "      <th>62207</th>\n",
       "      <td>0.222237</td>\n",
       "      <td>0.197451</td>\n",
       "      <td>0.163511</td>\n",
       "      <td>0.073954</td>\n",
       "      <td>0.199101</td>\n",
       "      <td>0.081200</td>\n",
       "      <td>0.080211</td>\n",
       "      <td>0.119097</td>\n",
       "      <td>0.085765</td>\n",
       "      <td>0.222237</td>\n",
       "      <td>...</td>\n",
       "      <td>448.0</td>\n",
       "      <td>419.0</td>\n",
       "      <td>366.0</td>\n",
       "      <td>242.0</td>\n",
       "      <td>141.0</td>\n",
       "      <td>92.0</td>\n",
       "      <td>58.0</td>\n",
       "      <td>20.0</td>\n",
       "      <td>9.0</td>\n",
       "      <td>4.0</td>\n",
       "    </tr>\n",
       "    <tr>\n",
       "      <th>62208</th>\n",
       "      <td>0.158378</td>\n",
       "      <td>0.145982</td>\n",
       "      <td>0.181519</td>\n",
       "      <td>0.174499</td>\n",
       "      <td>0.210547</td>\n",
       "      <td>0.144091</td>\n",
       "      <td>0.054418</td>\n",
       "      <td>0.156124</td>\n",
       "      <td>0.152611</td>\n",
       "      <td>0.218284</td>\n",
       "      <td>...</td>\n",
       "      <td>7.0</td>\n",
       "      <td>6.0</td>\n",
       "      <td>5.0</td>\n",
       "      <td>6.0</td>\n",
       "      <td>12.0</td>\n",
       "      <td>2.0</td>\n",
       "      <td>6.0</td>\n",
       "      <td>9.0</td>\n",
       "      <td>5.0</td>\n",
       "      <td>2.0</td>\n",
       "    </tr>\n",
       "    <tr>\n",
       "      <th>62209</th>\n",
       "      <td>0.228274</td>\n",
       "      <td>0.085372</td>\n",
       "      <td>0.114290</td>\n",
       "      <td>0.075705</td>\n",
       "      <td>0.124968</td>\n",
       "      <td>0.119827</td>\n",
       "      <td>0.177807</td>\n",
       "      <td>0.164606</td>\n",
       "      <td>0.107925</td>\n",
       "      <td>0.228274</td>\n",
       "      <td>...</td>\n",
       "      <td>425.0</td>\n",
       "      <td>177.0</td>\n",
       "      <td>219.0</td>\n",
       "      <td>92.0</td>\n",
       "      <td>40.0</td>\n",
       "      <td>23.0</td>\n",
       "      <td>14.0</td>\n",
       "      <td>3.0</td>\n",
       "      <td>2.0</td>\n",
       "      <td>1.0</td>\n",
       "    </tr>\n",
       "  </tbody>\n",
       "</table>\n",
       "<p>62210 rows × 964 columns</p>\n",
       "</div>"
      ],
      "text/plain": [
       "            0         1         2         3         4         5         6    \\\n",
       "0      0.142099  0.081518  0.083921  0.126117  0.172096  0.100030  0.025462   \n",
       "1      0.248079  0.138499  0.066726  0.105121  0.196336  0.084412  0.244487   \n",
       "2      0.193626  0.091769  0.180461  0.184008  0.217402  0.217402  0.217402   \n",
       "3      0.123813  0.058378  0.097994  0.091008  0.206869  0.251324  0.251324   \n",
       "4      0.226959  0.138531  0.114237  0.062622  0.193829  0.130002  0.147443   \n",
       "...         ...       ...       ...       ...       ...       ...       ...   \n",
       "62205  0.188325  0.127270  0.209042  0.253201  0.253201  0.106920  0.124544   \n",
       "62206  0.285676  0.285676  0.176533  0.285676  0.285676  0.110198  0.086257   \n",
       "62207  0.222237  0.197451  0.163511  0.073954  0.199101  0.081200  0.080211   \n",
       "62208  0.158378  0.145982  0.181519  0.174499  0.210547  0.144091  0.054418   \n",
       "62209  0.228274  0.085372  0.114290  0.075705  0.124968  0.119827  0.177807   \n",
       "\n",
       "            7         8         9    ...    954    955    956    957    958  \\\n",
       "0      0.059543  0.081057  0.154092  ...  179.0  184.0  358.0  446.0  686.0   \n",
       "1      0.248079  0.104019  0.236483  ...  185.0  125.0  115.0   91.0  138.0   \n",
       "2      0.125612  0.121047  0.217402  ...  373.0  266.0  152.0   52.0   34.0   \n",
       "3      0.193339  0.156478  0.242829  ...  649.0  646.0  532.0  158.0   77.0   \n",
       "4      0.226959  0.226959  0.226959  ...   47.0   83.0   87.0   63.0   61.0   \n",
       "...         ...       ...       ...  ...    ...    ...    ...    ...    ...   \n",
       "62205  0.050251  0.059478  0.216902  ...  431.0  374.0  331.0  206.0  166.0   \n",
       "62206  0.081887  0.104064  0.214225  ...   70.0   21.0    6.0    0.0    2.0   \n",
       "62207  0.119097  0.085765  0.222237  ...  448.0  419.0  366.0  242.0  141.0   \n",
       "62208  0.156124  0.152611  0.218284  ...    7.0    6.0    5.0    6.0   12.0   \n",
       "62209  0.164606  0.107925  0.228274  ...  425.0  177.0  219.0   92.0   40.0   \n",
       "\n",
       "          959    960   961   962   963  \n",
       "0      1102.0  297.0  42.0  16.0   5.0  \n",
       "1       109.0   87.0  59.0  23.0  10.0  \n",
       "2        31.0   44.0  48.0   9.0   6.0  \n",
       "3        36.0   31.0  18.0   5.0   6.0  \n",
       "4        35.0   24.0  17.0   8.0   4.0  \n",
       "...       ...    ...   ...   ...   ...  \n",
       "62205   133.0   85.0  33.0  13.0   5.0  \n",
       "62206     1.0    2.0   1.0   3.0   1.0  \n",
       "62207    92.0   58.0  20.0   9.0   4.0  \n",
       "62208     2.0    6.0   9.0   5.0   2.0  \n",
       "62209    23.0   14.0   3.0   2.0   1.0  \n",
       "\n",
       "[62210 rows x 964 columns]"
      ]
     },
     "execution_count": 1,
     "metadata": {},
     "output_type": "execute_result"
    }
   ],
   "source": [
    "import pandas as pd\n",
    "X_train_b = pd.read_csv('/data/cs5014/P2/multi/X_train.csv', header=None)\n",
    "X_train_b"
   ]
  },
  {
   "cell_type": "code",
   "execution_count": 2,
   "id": "09076207",
   "metadata": {},
   "outputs": [
    {
     "data": {
      "text/html": [
       "<div>\n",
       "<style scoped>\n",
       "    .dataframe tbody tr th:only-of-type {\n",
       "        vertical-align: middle;\n",
       "    }\n",
       "\n",
       "    .dataframe tbody tr th {\n",
       "        vertical-align: top;\n",
       "    }\n",
       "\n",
       "    .dataframe thead th {\n",
       "        text-align: right;\n",
       "    }\n",
       "</style>\n",
       "<table border=\"1\" class=\"dataframe\">\n",
       "  <thead>\n",
       "    <tr style=\"text-align: right;\">\n",
       "      <th></th>\n",
       "      <th>0</th>\n",
       "    </tr>\n",
       "  </thead>\n",
       "  <tbody>\n",
       "    <tr>\n",
       "      <th>0</th>\n",
       "      <td>whitecoat</td>\n",
       "    </tr>\n",
       "    <tr>\n",
       "      <th>1</th>\n",
       "      <td>whitecoat</td>\n",
       "    </tr>\n",
       "    <tr>\n",
       "      <th>2</th>\n",
       "      <td>whitecoat</td>\n",
       "    </tr>\n",
       "    <tr>\n",
       "      <th>3</th>\n",
       "      <td>whitecoat</td>\n",
       "    </tr>\n",
       "    <tr>\n",
       "      <th>4</th>\n",
       "      <td>whitecoat</td>\n",
       "    </tr>\n",
       "    <tr>\n",
       "      <th>...</th>\n",
       "      <td>...</td>\n",
       "    </tr>\n",
       "    <tr>\n",
       "      <th>62205</th>\n",
       "      <td>background</td>\n",
       "    </tr>\n",
       "    <tr>\n",
       "      <th>62206</th>\n",
       "      <td>background</td>\n",
       "    </tr>\n",
       "    <tr>\n",
       "      <th>62207</th>\n",
       "      <td>background</td>\n",
       "    </tr>\n",
       "    <tr>\n",
       "      <th>62208</th>\n",
       "      <td>background</td>\n",
       "    </tr>\n",
       "    <tr>\n",
       "      <th>62209</th>\n",
       "      <td>background</td>\n",
       "    </tr>\n",
       "  </tbody>\n",
       "</table>\n",
       "<p>62210 rows × 1 columns</p>\n",
       "</div>"
      ],
      "text/plain": [
       "                0\n",
       "0       whitecoat\n",
       "1       whitecoat\n",
       "2       whitecoat\n",
       "3       whitecoat\n",
       "4       whitecoat\n",
       "...           ...\n",
       "62205  background\n",
       "62206  background\n",
       "62207  background\n",
       "62208  background\n",
       "62209  background\n",
       "\n",
       "[62210 rows x 1 columns]"
      ]
     },
     "execution_count": 2,
     "metadata": {},
     "output_type": "execute_result"
    }
   ],
   "source": [
    "Y_train_b = pd.read_csv('/data/cs5014/P2/multi/Y_train.csv', header=None)\n",
    "Y_train_b"
   ]
  },
  {
   "cell_type": "code",
   "execution_count": 3,
   "id": "fabe83f3",
   "metadata": {
    "scrolled": true
   },
   "outputs": [
    {
     "data": {
      "text/html": [
       "<div>\n",
       "<style scoped>\n",
       "    .dataframe tbody tr th:only-of-type {\n",
       "        vertical-align: middle;\n",
       "    }\n",
       "\n",
       "    .dataframe tbody tr th {\n",
       "        vertical-align: top;\n",
       "    }\n",
       "\n",
       "    .dataframe thead th {\n",
       "        text-align: right;\n",
       "    }\n",
       "</style>\n",
       "<table border=\"1\" class=\"dataframe\">\n",
       "  <thead>\n",
       "    <tr style=\"text-align: right;\">\n",
       "      <th></th>\n",
       "      <th>0</th>\n",
       "      <th>1</th>\n",
       "      <th>2</th>\n",
       "      <th>3</th>\n",
       "      <th>4</th>\n",
       "      <th>5</th>\n",
       "      <th>6</th>\n",
       "      <th>7</th>\n",
       "      <th>8</th>\n",
       "      <th>9</th>\n",
       "      <th>...</th>\n",
       "      <th>954</th>\n",
       "      <th>955</th>\n",
       "      <th>956</th>\n",
       "      <th>957</th>\n",
       "      <th>958</th>\n",
       "      <th>959</th>\n",
       "      <th>960</th>\n",
       "      <th>961</th>\n",
       "      <th>962</th>\n",
       "      <th>963</th>\n",
       "    </tr>\n",
       "  </thead>\n",
       "  <tbody>\n",
       "    <tr>\n",
       "      <th>0</th>\n",
       "      <td>0.122567</td>\n",
       "      <td>0.055240</td>\n",
       "      <td>0.059334</td>\n",
       "      <td>0.129199</td>\n",
       "      <td>0.224202</td>\n",
       "      <td>0.187020</td>\n",
       "      <td>0.226728</td>\n",
       "      <td>0.226728</td>\n",
       "      <td>0.226728</td>\n",
       "      <td>0.192250</td>\n",
       "      <td>...</td>\n",
       "      <td>311.0</td>\n",
       "      <td>236.0</td>\n",
       "      <td>224.0</td>\n",
       "      <td>111.0</td>\n",
       "      <td>63.0</td>\n",
       "      <td>44.0</td>\n",
       "      <td>55.0</td>\n",
       "      <td>79.0</td>\n",
       "      <td>50.0</td>\n",
       "      <td>16.0</td>\n",
       "    </tr>\n",
       "    <tr>\n",
       "      <th>1</th>\n",
       "      <td>0.107209</td>\n",
       "      <td>0.078103</td>\n",
       "      <td>0.051008</td>\n",
       "      <td>0.235876</td>\n",
       "      <td>0.235876</td>\n",
       "      <td>0.182914</td>\n",
       "      <td>0.050084</td>\n",
       "      <td>0.082135</td>\n",
       "      <td>0.148389</td>\n",
       "      <td>0.143975</td>\n",
       "      <td>...</td>\n",
       "      <td>186.0</td>\n",
       "      <td>135.0</td>\n",
       "      <td>97.0</td>\n",
       "      <td>59.0</td>\n",
       "      <td>44.0</td>\n",
       "      <td>45.0</td>\n",
       "      <td>32.0</td>\n",
       "      <td>27.0</td>\n",
       "      <td>32.0</td>\n",
       "      <td>9.0</td>\n",
       "    </tr>\n",
       "    <tr>\n",
       "      <th>2</th>\n",
       "      <td>0.245161</td>\n",
       "      <td>0.129200</td>\n",
       "      <td>0.053153</td>\n",
       "      <td>0.051388</td>\n",
       "      <td>0.093719</td>\n",
       "      <td>0.115448</td>\n",
       "      <td>0.080504</td>\n",
       "      <td>0.237506</td>\n",
       "      <td>0.239717</td>\n",
       "      <td>0.261415</td>\n",
       "      <td>...</td>\n",
       "      <td>660.0</td>\n",
       "      <td>427.0</td>\n",
       "      <td>130.0</td>\n",
       "      <td>46.0</td>\n",
       "      <td>62.0</td>\n",
       "      <td>35.0</td>\n",
       "      <td>22.0</td>\n",
       "      <td>7.0</td>\n",
       "      <td>3.0</td>\n",
       "      <td>4.0</td>\n",
       "    </tr>\n",
       "    <tr>\n",
       "      <th>3</th>\n",
       "      <td>0.229574</td>\n",
       "      <td>0.175931</td>\n",
       "      <td>0.134427</td>\n",
       "      <td>0.150394</td>\n",
       "      <td>0.204559</td>\n",
       "      <td>0.112727</td>\n",
       "      <td>0.193858</td>\n",
       "      <td>0.136566</td>\n",
       "      <td>0.136969</td>\n",
       "      <td>0.229574</td>\n",
       "      <td>...</td>\n",
       "      <td>145.0</td>\n",
       "      <td>68.0</td>\n",
       "      <td>70.0</td>\n",
       "      <td>121.0</td>\n",
       "      <td>76.0</td>\n",
       "      <td>29.0</td>\n",
       "      <td>15.0</td>\n",
       "      <td>9.0</td>\n",
       "      <td>3.0</td>\n",
       "      <td>4.0</td>\n",
       "    </tr>\n",
       "    <tr>\n",
       "      <th>4</th>\n",
       "      <td>0.143843</td>\n",
       "      <td>0.062640</td>\n",
       "      <td>0.111629</td>\n",
       "      <td>0.053069</td>\n",
       "      <td>0.228310</td>\n",
       "      <td>0.161152</td>\n",
       "      <td>0.182938</td>\n",
       "      <td>0.188699</td>\n",
       "      <td>0.077603</td>\n",
       "      <td>0.189271</td>\n",
       "      <td>...</td>\n",
       "      <td>115.0</td>\n",
       "      <td>69.0</td>\n",
       "      <td>56.0</td>\n",
       "      <td>59.0</td>\n",
       "      <td>88.0</td>\n",
       "      <td>92.0</td>\n",
       "      <td>71.0</td>\n",
       "      <td>45.0</td>\n",
       "      <td>20.0</td>\n",
       "      <td>10.0</td>\n",
       "    </tr>\n",
       "    <tr>\n",
       "      <th>...</th>\n",
       "      <td>...</td>\n",
       "      <td>...</td>\n",
       "      <td>...</td>\n",
       "      <td>...</td>\n",
       "      <td>...</td>\n",
       "      <td>...</td>\n",
       "      <td>...</td>\n",
       "      <td>...</td>\n",
       "      <td>...</td>\n",
       "      <td>...</td>\n",
       "      <td>...</td>\n",
       "      <td>...</td>\n",
       "      <td>...</td>\n",
       "      <td>...</td>\n",
       "      <td>...</td>\n",
       "      <td>...</td>\n",
       "      <td>...</td>\n",
       "      <td>...</td>\n",
       "      <td>...</td>\n",
       "      <td>...</td>\n",
       "      <td>...</td>\n",
       "    </tr>\n",
       "    <tr>\n",
       "      <th>20330</th>\n",
       "      <td>0.013352</td>\n",
       "      <td>0.000000</td>\n",
       "      <td>0.279297</td>\n",
       "      <td>0.286823</td>\n",
       "      <td>0.260215</td>\n",
       "      <td>0.030013</td>\n",
       "      <td>0.000000</td>\n",
       "      <td>0.000000</td>\n",
       "      <td>0.000000</td>\n",
       "      <td>0.029104</td>\n",
       "      <td>...</td>\n",
       "      <td>429.0</td>\n",
       "      <td>353.0</td>\n",
       "      <td>312.0</td>\n",
       "      <td>335.0</td>\n",
       "      <td>252.0</td>\n",
       "      <td>172.0</td>\n",
       "      <td>109.0</td>\n",
       "      <td>44.0</td>\n",
       "      <td>9.0</td>\n",
       "      <td>149.0</td>\n",
       "    </tr>\n",
       "    <tr>\n",
       "      <th>20331</th>\n",
       "      <td>0.243802</td>\n",
       "      <td>0.213365</td>\n",
       "      <td>0.154884</td>\n",
       "      <td>0.122486</td>\n",
       "      <td>0.144076</td>\n",
       "      <td>0.088973</td>\n",
       "      <td>0.213850</td>\n",
       "      <td>0.095994</td>\n",
       "      <td>0.218834</td>\n",
       "      <td>0.150476</td>\n",
       "      <td>...</td>\n",
       "      <td>145.0</td>\n",
       "      <td>206.0</td>\n",
       "      <td>243.0</td>\n",
       "      <td>294.0</td>\n",
       "      <td>392.0</td>\n",
       "      <td>487.0</td>\n",
       "      <td>277.0</td>\n",
       "      <td>107.0</td>\n",
       "      <td>28.0</td>\n",
       "      <td>20.0</td>\n",
       "    </tr>\n",
       "    <tr>\n",
       "      <th>20332</th>\n",
       "      <td>0.226156</td>\n",
       "      <td>0.226156</td>\n",
       "      <td>0.226156</td>\n",
       "      <td>0.183975</td>\n",
       "      <td>0.170161</td>\n",
       "      <td>0.182739</td>\n",
       "      <td>0.122529</td>\n",
       "      <td>0.096072</td>\n",
       "      <td>0.103930</td>\n",
       "      <td>0.226156</td>\n",
       "      <td>...</td>\n",
       "      <td>540.0</td>\n",
       "      <td>745.0</td>\n",
       "      <td>643.0</td>\n",
       "      <td>438.0</td>\n",
       "      <td>127.0</td>\n",
       "      <td>196.0</td>\n",
       "      <td>86.0</td>\n",
       "      <td>19.0</td>\n",
       "      <td>14.0</td>\n",
       "      <td>3.0</td>\n",
       "    </tr>\n",
       "    <tr>\n",
       "      <th>20333</th>\n",
       "      <td>0.256394</td>\n",
       "      <td>0.122927</td>\n",
       "      <td>0.120579</td>\n",
       "      <td>0.074616</td>\n",
       "      <td>0.043097</td>\n",
       "      <td>0.053073</td>\n",
       "      <td>0.048713</td>\n",
       "      <td>0.141370</td>\n",
       "      <td>0.247882</td>\n",
       "      <td>0.256394</td>\n",
       "      <td>...</td>\n",
       "      <td>232.0</td>\n",
       "      <td>78.0</td>\n",
       "      <td>52.0</td>\n",
       "      <td>22.0</td>\n",
       "      <td>19.0</td>\n",
       "      <td>28.0</td>\n",
       "      <td>22.0</td>\n",
       "      <td>23.0</td>\n",
       "      <td>29.0</td>\n",
       "      <td>5.0</td>\n",
       "    </tr>\n",
       "    <tr>\n",
       "      <th>20334</th>\n",
       "      <td>0.236434</td>\n",
       "      <td>0.184968</td>\n",
       "      <td>0.178894</td>\n",
       "      <td>0.118359</td>\n",
       "      <td>0.193824</td>\n",
       "      <td>0.160824</td>\n",
       "      <td>0.030586</td>\n",
       "      <td>0.231564</td>\n",
       "      <td>0.146535</td>\n",
       "      <td>0.236434</td>\n",
       "      <td>...</td>\n",
       "      <td>446.0</td>\n",
       "      <td>169.0</td>\n",
       "      <td>30.0</td>\n",
       "      <td>22.0</td>\n",
       "      <td>3.0</td>\n",
       "      <td>9.0</td>\n",
       "      <td>3.0</td>\n",
       "      <td>4.0</td>\n",
       "      <td>3.0</td>\n",
       "      <td>3.0</td>\n",
       "    </tr>\n",
       "  </tbody>\n",
       "</table>\n",
       "<p>20335 rows × 964 columns</p>\n",
       "</div>"
      ],
      "text/plain": [
       "            0         1         2         3         4         5         6    \\\n",
       "0      0.122567  0.055240  0.059334  0.129199  0.224202  0.187020  0.226728   \n",
       "1      0.107209  0.078103  0.051008  0.235876  0.235876  0.182914  0.050084   \n",
       "2      0.245161  0.129200  0.053153  0.051388  0.093719  0.115448  0.080504   \n",
       "3      0.229574  0.175931  0.134427  0.150394  0.204559  0.112727  0.193858   \n",
       "4      0.143843  0.062640  0.111629  0.053069  0.228310  0.161152  0.182938   \n",
       "...         ...       ...       ...       ...       ...       ...       ...   \n",
       "20330  0.013352  0.000000  0.279297  0.286823  0.260215  0.030013  0.000000   \n",
       "20331  0.243802  0.213365  0.154884  0.122486  0.144076  0.088973  0.213850   \n",
       "20332  0.226156  0.226156  0.226156  0.183975  0.170161  0.182739  0.122529   \n",
       "20333  0.256394  0.122927  0.120579  0.074616  0.043097  0.053073  0.048713   \n",
       "20334  0.236434  0.184968  0.178894  0.118359  0.193824  0.160824  0.030586   \n",
       "\n",
       "            7         8         9    ...    954    955    956    957    958  \\\n",
       "0      0.226728  0.226728  0.192250  ...  311.0  236.0  224.0  111.0   63.0   \n",
       "1      0.082135  0.148389  0.143975  ...  186.0  135.0   97.0   59.0   44.0   \n",
       "2      0.237506  0.239717  0.261415  ...  660.0  427.0  130.0   46.0   62.0   \n",
       "3      0.136566  0.136969  0.229574  ...  145.0   68.0   70.0  121.0   76.0   \n",
       "4      0.188699  0.077603  0.189271  ...  115.0   69.0   56.0   59.0   88.0   \n",
       "...         ...       ...       ...  ...    ...    ...    ...    ...    ...   \n",
       "20330  0.000000  0.000000  0.029104  ...  429.0  353.0  312.0  335.0  252.0   \n",
       "20331  0.095994  0.218834  0.150476  ...  145.0  206.0  243.0  294.0  392.0   \n",
       "20332  0.096072  0.103930  0.226156  ...  540.0  745.0  643.0  438.0  127.0   \n",
       "20333  0.141370  0.247882  0.256394  ...  232.0   78.0   52.0   22.0   19.0   \n",
       "20334  0.231564  0.146535  0.236434  ...  446.0  169.0   30.0   22.0    3.0   \n",
       "\n",
       "         959    960    961   962    963  \n",
       "0       44.0   55.0   79.0  50.0   16.0  \n",
       "1       45.0   32.0   27.0  32.0    9.0  \n",
       "2       35.0   22.0    7.0   3.0    4.0  \n",
       "3       29.0   15.0    9.0   3.0    4.0  \n",
       "4       92.0   71.0   45.0  20.0   10.0  \n",
       "...      ...    ...    ...   ...    ...  \n",
       "20330  172.0  109.0   44.0   9.0  149.0  \n",
       "20331  487.0  277.0  107.0  28.0   20.0  \n",
       "20332  196.0   86.0   19.0  14.0    3.0  \n",
       "20333   28.0   22.0   23.0  29.0    5.0  \n",
       "20334    9.0    3.0    4.0   3.0    3.0  \n",
       "\n",
       "[20335 rows x 964 columns]"
      ]
     },
     "execution_count": 3,
     "metadata": {},
     "output_type": "execute_result"
    }
   ],
   "source": [
    "X_test_b = pd.read_csv('/data/cs5014/P2/multi/X_test.csv', header=None)\n",
    "X_test_b"
   ]
  },
  {
   "cell_type": "code",
   "execution_count": 4,
   "id": "2a3b0d0f",
   "metadata": {},
   "outputs": [
    {
     "data": {
      "text/plain": [
       "background     54432\n",
       "whitecoat       4981\n",
       "moulted pup     2272\n",
       "dead pup         277\n",
       "juvenile         248\n",
       "Name: 0, dtype: int64"
      ]
     },
     "execution_count": 4,
     "metadata": {},
     "output_type": "execute_result"
    }
   ],
   "source": [
    "Y_train_b[0].value_counts()"
   ]
  },
  {
   "cell_type": "code",
   "execution_count": 6,
   "id": "671cf501",
   "metadata": {},
   "outputs": [],
   "source": [
    "from sklearn.model_selection import train_test_split\n",
    "X_train_train, X_train_test, Y_train_train, Y_train_test = train_test_split(X_train_b, Y_train_b, test_size=0.20, random_state=50)"
   ]
  },
  {
   "cell_type": "code",
   "execution_count": 7,
   "id": "52055a69",
   "metadata": {},
   "outputs": [
    {
     "name": "stderr",
     "output_type": "stream",
     "text": [
      "/cs/home/akhkr1/CS5014/python/lib64/python3.9/site-packages/sklearn/utils/validation.py:1141: DataConversionWarning: A column-vector y was passed when a 1d array was expected. Please change the shape of y to (n_samples, ), for example using ravel().\n",
      "  y = column_or_1d(y, warn=True)\n"
     ]
    },
    {
     "name": "stdout",
     "output_type": "stream",
     "text": [
      "618.8952400684357\n"
     ]
    }
   ],
   "source": [
    "from sklearn.svm import SVC\n",
    "from sklearn.preprocessing import StandardScaler\n",
    "import time\n",
    "svm_model_init = SVC()\n",
    "scaler = StandardScaler()\n",
    "before = time.time()\n",
    "svm_model_init.fit(scaler.fit_transform(X_train_train), Y_train_train)\n",
    "after = time.time()\n",
    "print(after - before)"
   ]
  },
  {
   "cell_type": "code",
   "execution_count": 8,
   "id": "5865205a",
   "metadata": {},
   "outputs": [
    {
     "name": "stdout",
     "output_type": "stream",
     "text": [
      "{'background': {'precision': 0.9734845103115793, 'recall': 0.9984433659921252, 'f1-score': 0.9858059849923153, 'support': 10921}, 'dead pup': {'precision': 0.0, 'recall': 0.0, 'f1-score': 0.0, 'support': 68}, 'juvenile': {'precision': 0.8333333333333334, 'recall': 0.3409090909090909, 'f1-score': 0.4838709677419354, 'support': 44}, 'moulted pup': {'precision': 0.7065868263473054, 'recall': 0.26222222222222225, 'f1-score': 0.3824959481361427, 'support': 450}, 'whitecoat': {'precision': 0.7755681818181818, 'recall': 0.8540145985401459, 'f1-score': 0.8129032258064515, 'support': 959}, 'accuracy': 0.9529014627873332, 'macro avg': {'precision': 0.65779457036208, 'recall': 0.49111785553271686, 'f1-score': 0.533015225335369, 'support': 12442}, 'weighted avg': {'precision': 0.9427604052402626, 'recall': 0.9529014627873332, 'f1-score': 0.9434958089448137, 'support': 12442}}\n"
     ]
    },
    {
     "name": "stderr",
     "output_type": "stream",
     "text": [
      "/cs/home/akhkr1/CS5014/python/lib64/python3.9/site-packages/sklearn/metrics/_classification.py:1344: UndefinedMetricWarning: Precision and F-score are ill-defined and being set to 0.0 in labels with no predicted samples. Use `zero_division` parameter to control this behavior.\n",
      "  _warn_prf(average, modifier, msg_start, len(result))\n",
      "/cs/home/akhkr1/CS5014/python/lib64/python3.9/site-packages/sklearn/metrics/_classification.py:1344: UndefinedMetricWarning: Precision and F-score are ill-defined and being set to 0.0 in labels with no predicted samples. Use `zero_division` parameter to control this behavior.\n",
      "  _warn_prf(average, modifier, msg_start, len(result))\n",
      "/cs/home/akhkr1/CS5014/python/lib64/python3.9/site-packages/sklearn/metrics/_classification.py:1344: UndefinedMetricWarning: Precision and F-score are ill-defined and being set to 0.0 in labels with no predicted samples. Use `zero_division` parameter to control this behavior.\n",
      "  _warn_prf(average, modifier, msg_start, len(result))\n"
     ]
    }
   ],
   "source": [
    "from sklearn.metrics import accuracy_score, classification_report\n",
    "Y_pred_init = svm_model_init.predict(scaler.transform(X_train_test))\n",
    "svm_report_init = classification_report(Y_train_test, Y_pred_init, output_dict=True)\n",
    "print(svm_report_init)"
   ]
  },
  {
   "cell_type": "code",
   "execution_count": 9,
   "id": "1d35e416",
   "metadata": {},
   "outputs": [
    {
     "data": {
      "text/plain": [
       "(12442, 1)"
      ]
     },
     "execution_count": 9,
     "metadata": {},
     "output_type": "execute_result"
    }
   ],
   "source": [
    "Y_pred_init = pd.DataFrame(Y_pred_init, columns=['label'])\n",
    "Y_pred_init.shape"
   ]
  },
  {
   "cell_type": "code",
   "execution_count": 10,
   "id": "92d433dc",
   "metadata": {},
   "outputs": [
    {
     "data": {
      "image/png": "[encoded data removed]",
      "text/plain": [
       "<Figure size 640x480 with 1 Axes>"
      ]
     },
     "metadata": {},
     "output_type": "display_data"
    }
   ],
   "source": [
    "import numpy as np\n",
    "from sklearn.decomposition import PCA\n",
    "import matplotlib.pyplot as plt\n",
    "\n",
    "X_hist = X_train_train.loc[:,:899]\n",
    "X_nd = X_train_train.loc[:,900:915]\n",
    "X_rgb = X_train_train.loc[:,916:964]\n",
    "\n",
    "# Fit PCA to data\n",
    "pca_hist = PCA()\n",
    "pca_hist.fit(X_hist)\n",
    "\n",
    "# Plot scree plot\n",
    "plt.plot(np.cumsum(pca_hist.explained_variance_ratio_))\n",
    "plt.xlabel('Number of components for histogram')\n",
    "plt.ylabel('Cumulative explained variance')\n",
    "plt.show()"
   ]
  },
  {
   "cell_type": "code",
   "execution_count": 11,
   "id": "764be23f",
   "metadata": {},
   "outputs": [],
   "source": [
    "#X_hist"
   ]
  },
  {
   "cell_type": "code",
   "execution_count": 12,
   "id": "6277f7c4",
   "metadata": {},
   "outputs": [],
   "source": [
    "#X_nd"
   ]
  },
  {
   "cell_type": "code",
   "execution_count": 33,
   "id": "7a9211ce",
   "metadata": {},
   "outputs": [
    {
     "data": {
      "text/plain": [
       "278"
      ]
     },
     "execution_count": 33,
     "metadata": {},
     "output_type": "execute_result"
    }
   ],
   "source": [
    "# Get explained variance ratios\n",
    "explained_variances = pca_hist.explained_variance_ratio_\n",
    "\n",
    "# Calculate cumulative explained variances\n",
    "cumulative_variances = np.cumsum(explained_variances)\n",
    "\n",
    "# Find number of components needed to capture specified amount of variance\n",
    "threshold = 0.95\n",
    "n_components_hist = np.argmax(cumulative_variances >= threshold) + 1\n",
    "n_components_hist"
   ]
  },
  {
   "cell_type": "code",
   "execution_count": 14,
   "id": "3bf866a3",
   "metadata": {
    "scrolled": true
   },
   "outputs": [
    {
     "data": {
      "image/png": "[encoded data removed]",
      "text/plain": [
       "<Figure size 640x480 with 1 Axes>"
      ]
     },
     "metadata": {},
     "output_type": "display_data"
    }
   ],
   "source": [
    "# Fit PCA to data\n",
    "pca_rgb = PCA()\n",
    "pca_rgb.fit(X_rgb)\n",
    "\n",
    "# Plot scree plot\n",
    "plt.plot(np.cumsum(pca_rgb.explained_variance_ratio_))\n",
    "plt.xlabel('Number of components for rgb')\n",
    "plt.ylabel('Cumulative explained variance')\n",
    "plt.show()"
   ]
  },
  {
   "cell_type": "code",
   "execution_count": 34,
   "id": "8c447105",
   "metadata": {},
   "outputs": [
    {
     "data": {
      "text/plain": [
       "16"
      ]
     },
     "execution_count": 34,
     "metadata": {},
     "output_type": "execute_result"
    }
   ],
   "source": [
    "# Get explained variance ratios\n",
    "explained_variances = pca_rgb.explained_variance_ratio_\n",
    "\n",
    "# Calculate cumulative explained variances\n",
    "cumulative_variances = np.cumsum(explained_variances)\n",
    "\n",
    "# Find number of components needed to capture specified amount of variance\n",
    "threshold = 0.95\n",
    "n_components_rgb = np.argmax(cumulative_variances >= threshold) + 1\n",
    "n_components_rgb"
   ]
  },
  {
   "cell_type": "markdown",
   "id": "d259ddc1",
   "metadata": {},
   "source": [
    "Now, if the first 2 PCAs have a total variance of 80%, it means that they preserve 80% information of the main dataset.\n",
    "If the number is 60% it means that they preserve 60% information of the main dataset.\n",
    "Hence, the lower the total variance is, the higher is the information loss.\n",
    "argmax gives the starting number of components where the threshold condition is met"
   ]
  },
  {
   "cell_type": "code",
   "execution_count": 16,
   "id": "5f06ea00",
   "metadata": {},
   "outputs": [],
   "source": [
    "# Transform train data to reduced-dimensional space\n",
    "X_hist_pca = pca_hist.transform(X_hist)[:,:n_components_hist]\n",
    "X_rgb_pca = pca_rgb.transform(X_rgb)[:,:n_components_rgb]\n",
    "data_reduced_X_train_b = np.concatenate((X_hist_pca, X_nd, X_rgb_pca), axis=1)\n",
    "# Define column names for the DataFrame\n",
    "column_names = ['PCA_hist_{}'.format(i) for i in range(n_components_hist)] + ['X_nd_{}'.format(i) for i in range(X_nd.shape[1])] + ['PCA_rgb_{}'.format(i) for i in range(n_components_rgb)]\n",
    "\n",
    "# Create a DataFrame from the numpy array, with column names\n",
    "df_reduced_X_train_b = pd.DataFrame(data_reduced_X_train_b, columns=column_names)\n",
    "\n",
    "#df_reduced_X_train_b"
   ]
  },
  {
   "cell_type": "code",
   "execution_count": 17,
   "id": "9957ac0b",
   "metadata": {},
   "outputs": [],
   "source": [
    "# Transform test data to reduced-dimensional space\n",
    "X_hist_test = X_train_test.loc[:,:899]\n",
    "X_nd_test = X_train_test.loc[:,900:915]\n",
    "X_rgb_test = X_train_test.loc[:,916:964]\n",
    "\n",
    "# Transform data to reduced-dimensional space\n",
    "X_hist_test_pca = pca_hist.transform(X_hist_test)[:,:n_components_hist]\n",
    "X_rgb_test_pca = pca_rgb.transform(X_rgb_test)[:,:n_components_rgb]\n",
    "data_reduced_X_test_b = np.concatenate((X_hist_test_pca, X_nd_test, X_rgb_test_pca), axis=1)\n",
    "# Define column names for the DataFrame\n",
    "column_names = ['PCA_hist_{}'.format(i) for i in range(n_components_hist)] + ['X_nd_{}'.format(i) for i in range(X_nd.shape[1])] + ['PCA_rgb_{}'.format(i) for i in range(n_components_rgb)]\n",
    "\n",
    "# Create a DataFrame from the numpy array, with column names\n",
    "df_reduced_X_test_b = pd.DataFrame(data_reduced_X_test_b, columns=column_names)\n",
    "\n",
    "#df_reduced_X_test_b"
   ]
  },
  {
   "cell_type": "code",
   "execution_count": 18,
   "id": "41c03371",
   "metadata": {},
   "outputs": [
    {
     "name": "stderr",
     "output_type": "stream",
     "text": [
      "/cs/home/akhkr1/CS5014/python/lib64/python3.9/site-packages/sklearn/utils/validation.py:1141: DataConversionWarning: A column-vector y was passed when a 1d array was expected. Please change the shape of y to (n_samples, ), for example using ravel().\n",
      "  y = column_or_1d(y, warn=True)\n"
     ]
    },
    {
     "name": "stdout",
     "output_type": "stream",
     "text": [
      "378.6393532752991\n"
     ]
    }
   ],
   "source": [
    "from sklearn.svm import SVC\n",
    "from sklearn.preprocessing import StandardScaler\n",
    "scaler = StandardScaler()\n",
    "svm = SVC()\n",
    "before = time.time()\n",
    "svm.fit(scaler.fit_transform(df_reduced_X_train_b), Y_train_train)\n",
    "after = time.time()\n",
    "print(after - before)"
   ]
  },
  {
   "cell_type": "code",
   "execution_count": 19,
   "id": "c5e31d4c",
   "metadata": {},
   "outputs": [
    {
     "name": "stdout",
     "output_type": "stream",
     "text": [
      "{'background': {'precision': 0.9621526246140274, 'recall': 0.9986264994048164, 'f1-score': 0.9800503235082676, 'support': 10921}, 'dead pup': {'precision': 0.0, 'recall': 0.0, 'f1-score': 0.0, 'support': 68}, 'juvenile': {'precision': 0.75, 'recall': 0.06818181818181818, 'f1-score': 0.125, 'support': 44}, 'moulted pup': {'precision': 0.6850393700787402, 'recall': 0.19333333333333333, 'f1-score': 0.30155979202772965, 'support': 450}, 'whitecoat': {'precision': 0.7766393442622951, 'recall': 0.7904066736183525, 'f1-score': 0.7834625322997416, 'support': 959}, 'accuracy': 0.9447034238868349, 'macro avg': {'precision': 0.6347662677910125, 'recall': 0.41010966490766404, 'f1-score': 0.4380145295671478, 'support': 12442}, 'weighted avg': {'precision': 0.931822348584855, 'recall': 0.9447034238868349, 'f1-score': 0.9319781432182705, 'support': 12442}}\n"
     ]
    },
    {
     "name": "stderr",
     "output_type": "stream",
     "text": [
      "/cs/home/akhkr1/CS5014/python/lib64/python3.9/site-packages/sklearn/metrics/_classification.py:1344: UndefinedMetricWarning: Precision and F-score are ill-defined and being set to 0.0 in labels with no predicted samples. Use `zero_division` parameter to control this behavior.\n",
      "  _warn_prf(average, modifier, msg_start, len(result))\n",
      "/cs/home/akhkr1/CS5014/python/lib64/python3.9/site-packages/sklearn/metrics/_classification.py:1344: UndefinedMetricWarning: Precision and F-score are ill-defined and being set to 0.0 in labels with no predicted samples. Use `zero_division` parameter to control this behavior.\n",
      "  _warn_prf(average, modifier, msg_start, len(result))\n",
      "/cs/home/akhkr1/CS5014/python/lib64/python3.9/site-packages/sklearn/metrics/_classification.py:1344: UndefinedMetricWarning: Precision and F-score are ill-defined and being set to 0.0 in labels with no predicted samples. Use `zero_division` parameter to control this behavior.\n",
      "  _warn_prf(average, modifier, msg_start, len(result))\n"
     ]
    }
   ],
   "source": [
    "Y_pred_svm = svm.predict(scaler.transform(df_reduced_X_test_b))\n",
    "svm_report = classification_report(Y_train_test, Y_pred_svm, output_dict=True)\n",
    "print(svm_report)"
   ]
  },
  {
   "cell_type": "code",
   "execution_count": 20,
   "id": "d1aa6af4",
   "metadata": {
    "scrolled": true
   },
   "outputs": [
    {
     "data": {
      "image/png": "[encoded data removed]",
      "text/plain": [
       "<Figure size 640x480 with 1 Axes>"
      ]
     },
     "metadata": {},
     "output_type": "display_data"
    }
   ],
   "source": [
    "import matplotlib.pyplot as plt0\n",
    "labels = [\"with total data\", \"with pca\"]\n",
    "reduced_data = [svm_report_init[\"macro avg\"][\"f1-score\"], svm_report[\"macro avg\"][\"f1-score\"]]\n",
    "plt0.bar(labels, reduced_data)\n",
    "plt0.title(\"Performance of svm with total and reduced data based on the macro avg f1-score\")\n",
    "plt0.show()"
   ]
  },
  {
   "cell_type": "markdown",
   "id": "0b2bca9c",
   "metadata": {},
   "source": [
    "even though the training is more, it is evident that the f1 score is high when the total data is considered"
   ]
  },
  {
   "cell_type": "code",
   "execution_count": 21,
   "id": "19940eed",
   "metadata": {
    "scrolled": true
   },
   "outputs": [
    {
     "name": "stderr",
     "output_type": "stream",
     "text": [
      "/tmp/ipykernel_7012/4280424909.py:3: DataConversionWarning: A column-vector y was passed when a 1d array was expected. Please change the shape of y to (n_samples,), for example using ravel().\n",
      "  rd_model.fit(X_train_train, Y_train_train)\n"
     ]
    },
    {
     "data": {
      "text/html": [
       "<style>#sk-container-id-1 {color: black;background-color: white;}#sk-container-id-1 pre{padding: 0;}#sk-container-id-1 div.sk-toggleable {background-color: white;}#sk-container-id-1 label.sk-toggleable__label {cursor: pointer;display: block;width: 100%;margin-bottom: 0;padding: 0.3em;box-sizing: border-box;text-align: center;}#sk-container-id-1 label.sk-toggleable__label-arrow:before {content: \"▸\";float: left;margin-right: 0.25em;color: #696969;}#sk-container-id-1 label.sk-toggleable__label-arrow:hover:before {color: black;}#sk-container-id-1 div.sk-estimator:hover label.sk-toggleable__label-arrow:before {color: black;}#sk-container-id-1 div.sk-toggleable__content {max-height: 0;max-width: 0;overflow: hidden;text-align: left;background-color: #f0f8ff;}#sk-container-id-1 div.sk-toggleable__content pre {margin: 0.2em;color: black;border-radius: 0.25em;background-color: #f0f8ff;}#sk-container-id-1 input.sk-toggleable__control:checked~div.sk-toggleable__content {max-height: 200px;max-width: 100%;overflow: auto;}#sk-container-id-1 input.sk-toggleable__control:checked~label.sk-toggleable__label-arrow:before {content: \"▾\";}#sk-container-id-1 div.sk-estimator input.sk-toggleable__control:checked~label.sk-toggleable__label {background-color: #d4ebff;}#sk-container-id-1 div.sk-label input.sk-toggleable__control:checked~label.sk-toggleable__label {background-color: #d4ebff;}#sk-container-id-1 input.sk-hidden--visually {border: 0;clip: rect(1px 1px 1px 1px);clip: rect(1px, 1px, 1px, 1px);height: 1px;margin: -1px;overflow: hidden;padding: 0;position: absolute;width: 1px;}#sk-container-id-1 div.sk-estimator {font-family: monospace;background-color: #f0f8ff;border: 1px dotted black;border-radius: 0.25em;box-sizing: border-box;margin-bottom: 0.5em;}#sk-container-id-1 div.sk-estimator:hover {background-color: #d4ebff;}#sk-container-id-1 div.sk-parallel-item::after {content: \"\";width: 100%;border-bottom: 1px solid gray;flex-grow: 1;}#sk-container-id-1 div.sk-label:hover label.sk-toggleable__label {background-color: #d4ebff;}#sk-container-id-1 div.sk-serial::before {content: \"\";position: absolute;border-left: 1px solid gray;box-sizing: border-box;top: 0;bottom: 0;left: 50%;z-index: 0;}#sk-container-id-1 div.sk-serial {display: flex;flex-direction: column;align-items: center;background-color: white;padding-right: 0.2em;padding-left: 0.2em;position: relative;}#sk-container-id-1 div.sk-item {position: relative;z-index: 1;}#sk-container-id-1 div.sk-parallel {display: flex;align-items: stretch;justify-content: center;background-color: white;position: relative;}#sk-container-id-1 div.sk-item::before, #sk-container-id-1 div.sk-parallel-item::before {content: \"\";position: absolute;border-left: 1px solid gray;box-sizing: border-box;top: 0;bottom: 0;left: 50%;z-index: -1;}#sk-container-id-1 div.sk-parallel-item {display: flex;flex-direction: column;z-index: 1;position: relative;background-color: white;}#sk-container-id-1 div.sk-parallel-item:first-child::after {align-self: flex-end;width: 50%;}#sk-container-id-1 div.sk-parallel-item:last-child::after {align-self: flex-start;width: 50%;}#sk-container-id-1 div.sk-parallel-item:only-child::after {width: 0;}#sk-container-id-1 div.sk-dashed-wrapped {border: 1px dashed gray;margin: 0 0.4em 0.5em 0.4em;box-sizing: border-box;padding-bottom: 0.4em;background-color: white;}#sk-container-id-1 div.sk-label label {font-family: monospace;font-weight: bold;display: inline-block;line-height: 1.2em;}#sk-container-id-1 div.sk-label-container {text-align: center;}#sk-container-id-1 div.sk-container {/* jupyter's `normalize.less` sets `[hidden] { display: none; }` but bootstrap.min.css set `[hidden] { display: none !important; }` so we also need the `!important` here to be able to override the default hidden behavior on the sphinx rendered scikit-learn.org. See: https://github.com/scikit-learn/scikit-learn/issues/21755 */display: inline-block !important;position: relative;}#sk-container-id-1 div.sk-text-repr-fallback {display: none;}</style><div id=\"sk-container-id-1\" class=\"sk-top-container\"><div class=\"sk-text-repr-fallback\"><pre>RandomForestClassifier()</pre><b>In a Jupyter environment, please rerun this cell to show the HTML representation or trust the notebook. <br />On GitHub, the HTML representation is unable to render, please try loading this page with nbviewer.org.</b></div><div class=\"sk-container\" hidden><div class=\"sk-item\"><div class=\"sk-estimator sk-toggleable\"><input class=\"sk-toggleable__control sk-hidden--visually\" id=\"sk-estimator-id-1\" type=\"checkbox\" checked><label for=\"sk-estimator-id-1\" class=\"sk-toggleable__label sk-toggleable__label-arrow\">RandomForestClassifier</label><div class=\"sk-toggleable__content\"><pre>RandomForestClassifier()</pre></div></div></div></div></div>"
      ],
      "text/plain": [
       "RandomForestClassifier()"
      ]
     },
     "execution_count": 21,
     "metadata": {},
     "output_type": "execute_result"
    }
   ],
   "source": [
    "from sklearn.ensemble import RandomForestClassifier\n",
    "rd_model = RandomForestClassifier()\n",
    "rd_model.fit(X_train_train, Y_train_train)"
   ]
  },
  {
   "cell_type": "code",
   "execution_count": 22,
   "id": "58bd02b9",
   "metadata": {},
   "outputs": [
    {
     "name": "stdout",
     "output_type": "stream",
     "text": [
      "{'background': {'precision': 0.9525888413516109, 'recall': 0.9989927662301987, 'f1-score': 0.9752391168320371, 'support': 10921}, 'dead pup': {'precision': 0.0, 'recall': 0.0, 'f1-score': 0.0, 'support': 68}, 'juvenile': {'precision': 0.0, 'recall': 0.0, 'f1-score': 0.0, 'support': 44}, 'moulted pup': {'precision': 0.5806451612903226, 'recall': 0.04, 'f1-score': 0.07484407484407483, 'support': 450}, 'whitecoat': {'precision': 0.755741127348643, 'recall': 0.7549530761209593, 'f1-score': 0.7553468961919665, 'support': 959}, 'accuracy': 0.9365053849863366, 'macro avg': {'precision': 0.4577950259981153, 'recall': 0.3587891684702316, 'f1-score': 0.3610860175736157, 'support': 12442}, 'weighted avg': {'precision': 0.9153889085443608, 'recall': 0.9365053849863366, 'f1-score': 0.9169461422641542, 'support': 12442}}\n"
     ]
    },
    {
     "name": "stderr",
     "output_type": "stream",
     "text": [
      "/cs/home/akhkr1/CS5014/python/lib64/python3.9/site-packages/sklearn/metrics/_classification.py:1344: UndefinedMetricWarning: Precision and F-score are ill-defined and being set to 0.0 in labels with no predicted samples. Use `zero_division` parameter to control this behavior.\n",
      "  _warn_prf(average, modifier, msg_start, len(result))\n",
      "/cs/home/akhkr1/CS5014/python/lib64/python3.9/site-packages/sklearn/metrics/_classification.py:1344: UndefinedMetricWarning: Precision and F-score are ill-defined and being set to 0.0 in labels with no predicted samples. Use `zero_division` parameter to control this behavior.\n",
      "  _warn_prf(average, modifier, msg_start, len(result))\n",
      "/cs/home/akhkr1/CS5014/python/lib64/python3.9/site-packages/sklearn/metrics/_classification.py:1344: UndefinedMetricWarning: Precision and F-score are ill-defined and being set to 0.0 in labels with no predicted samples. Use `zero_division` parameter to control this behavior.\n",
      "  _warn_prf(average, modifier, msg_start, len(result))\n"
     ]
    }
   ],
   "source": [
    "from sklearn.metrics import accuracy_score, classification_report\n",
    "Y_pred = rd_model.predict(X_train_test)\n",
    "rd_report = classification_report(Y_train_test, Y_pred, output_dict=True)\n",
    "print(rd_report)"
   ]
  },
  {
   "cell_type": "code",
   "execution_count": 23,
   "id": "336ad16a",
   "metadata": {
    "scrolled": false
   },
   "outputs": [
    {
     "name": "stderr",
     "output_type": "stream",
     "text": [
      "/cs/home/akhkr1/CS5014/python/lib64/python3.9/site-packages/sklearn/neighbors/_classification.py:215: DataConversionWarning: A column-vector y was passed when a 1d array was expected. Please change the shape of y to (n_samples,), for example using ravel().\n",
      "  return self._fit(X, y)\n"
     ]
    },
    {
     "data": {
      "text/html": [
       "<style>#sk-container-id-2 {color: black;background-color: white;}#sk-container-id-2 pre{padding: 0;}#sk-container-id-2 div.sk-toggleable {background-color: white;}#sk-container-id-2 label.sk-toggleable__label {cursor: pointer;display: block;width: 100%;margin-bottom: 0;padding: 0.3em;box-sizing: border-box;text-align: center;}#sk-container-id-2 label.sk-toggleable__label-arrow:before {content: \"▸\";float: left;margin-right: 0.25em;color: #696969;}#sk-container-id-2 label.sk-toggleable__label-arrow:hover:before {color: black;}#sk-container-id-2 div.sk-estimator:hover label.sk-toggleable__label-arrow:before {color: black;}#sk-container-id-2 div.sk-toggleable__content {max-height: 0;max-width: 0;overflow: hidden;text-align: left;background-color: #f0f8ff;}#sk-container-id-2 div.sk-toggleable__content pre {margin: 0.2em;color: black;border-radius: 0.25em;background-color: #f0f8ff;}#sk-container-id-2 input.sk-toggleable__control:checked~div.sk-toggleable__content {max-height: 200px;max-width: 100%;overflow: auto;}#sk-container-id-2 input.sk-toggleable__control:checked~label.sk-toggleable__label-arrow:before {content: \"▾\";}#sk-container-id-2 div.sk-estimator input.sk-toggleable__control:checked~label.sk-toggleable__label {background-color: #d4ebff;}#sk-container-id-2 div.sk-label input.sk-toggleable__control:checked~label.sk-toggleable__label {background-color: #d4ebff;}#sk-container-id-2 input.sk-hidden--visually {border: 0;clip: rect(1px 1px 1px 1px);clip: rect(1px, 1px, 1px, 1px);height: 1px;margin: -1px;overflow: hidden;padding: 0;position: absolute;width: 1px;}#sk-container-id-2 div.sk-estimator {font-family: monospace;background-color: #f0f8ff;border: 1px dotted black;border-radius: 0.25em;box-sizing: border-box;margin-bottom: 0.5em;}#sk-container-id-2 div.sk-estimator:hover {background-color: #d4ebff;}#sk-container-id-2 div.sk-parallel-item::after {content: \"\";width: 100%;border-bottom: 1px solid gray;flex-grow: 1;}#sk-container-id-2 div.sk-label:hover label.sk-toggleable__label {background-color: #d4ebff;}#sk-container-id-2 div.sk-serial::before {content: \"\";position: absolute;border-left: 1px solid gray;box-sizing: border-box;top: 0;bottom: 0;left: 50%;z-index: 0;}#sk-container-id-2 div.sk-serial {display: flex;flex-direction: column;align-items: center;background-color: white;padding-right: 0.2em;padding-left: 0.2em;position: relative;}#sk-container-id-2 div.sk-item {position: relative;z-index: 1;}#sk-container-id-2 div.sk-parallel {display: flex;align-items: stretch;justify-content: center;background-color: white;position: relative;}#sk-container-id-2 div.sk-item::before, #sk-container-id-2 div.sk-parallel-item::before {content: \"\";position: absolute;border-left: 1px solid gray;box-sizing: border-box;top: 0;bottom: 0;left: 50%;z-index: -1;}#sk-container-id-2 div.sk-parallel-item {display: flex;flex-direction: column;z-index: 1;position: relative;background-color: white;}#sk-container-id-2 div.sk-parallel-item:first-child::after {align-self: flex-end;width: 50%;}#sk-container-id-2 div.sk-parallel-item:last-child::after {align-self: flex-start;width: 50%;}#sk-container-id-2 div.sk-parallel-item:only-child::after {width: 0;}#sk-container-id-2 div.sk-dashed-wrapped {border: 1px dashed gray;margin: 0 0.4em 0.5em 0.4em;box-sizing: border-box;padding-bottom: 0.4em;background-color: white;}#sk-container-id-2 div.sk-label label {font-family: monospace;font-weight: bold;display: inline-block;line-height: 1.2em;}#sk-container-id-2 div.sk-label-container {text-align: center;}#sk-container-id-2 div.sk-container {/* jupyter's `normalize.less` sets `[hidden] { display: none; }` but bootstrap.min.css set `[hidden] { display: none !important; }` so we also need the `!important` here to be able to override the default hidden behavior on the sphinx rendered scikit-learn.org. See: https://github.com/scikit-learn/scikit-learn/issues/21755 */display: inline-block !important;position: relative;}#sk-container-id-2 div.sk-text-repr-fallback {display: none;}</style><div id=\"sk-container-id-2\" class=\"sk-top-container\"><div class=\"sk-text-repr-fallback\"><pre>KNeighborsClassifier()</pre><b>In a Jupyter environment, please rerun this cell to show the HTML representation or trust the notebook. <br />On GitHub, the HTML representation is unable to render, please try loading this page with nbviewer.org.</b></div><div class=\"sk-container\" hidden><div class=\"sk-item\"><div class=\"sk-estimator sk-toggleable\"><input class=\"sk-toggleable__control sk-hidden--visually\" id=\"sk-estimator-id-2\" type=\"checkbox\" checked><label for=\"sk-estimator-id-2\" class=\"sk-toggleable__label sk-toggleable__label-arrow\">KNeighborsClassifier</label><div class=\"sk-toggleable__content\"><pre>KNeighborsClassifier()</pre></div></div></div></div></div>"
      ],
      "text/plain": [
       "KNeighborsClassifier()"
      ]
     },
     "execution_count": 23,
     "metadata": {},
     "output_type": "execute_result"
    }
   ],
   "source": [
    "from sklearn.neighbors import KNeighborsClassifier\n",
    "knn = KNeighborsClassifier(n_neighbors=5)\n",
    "knn.fit(X_train_train, Y_train_train)"
   ]
  },
  {
   "cell_type": "code",
   "execution_count": 24,
   "id": "09d8b2b0",
   "metadata": {
    "scrolled": true
   },
   "outputs": [
    {
     "name": "stdout",
     "output_type": "stream",
     "text": [
      "{'background': {'precision': 0.927835943583975, 'recall': 0.9818697921435766, 'f1-score': 0.9540884420322093, 'support': 10921}, 'dead pup': {'precision': 0.3333333333333333, 'recall': 0.014705882352941176, 'f1-score': 0.028169014084507043, 'support': 68}, 'juvenile': {'precision': 0.3, 'recall': 0.06818181818181818, 'f1-score': 0.11111111111111109, 'support': 44}, 'moulted pup': {'precision': 0.33727810650887574, 'recall': 0.12666666666666668, 'f1-score': 0.1841680129240711, 'support': 450}, 'whitecoat': {'precision': 0.6799431009957326, 'recall': 0.4984358706986444, 'f1-score': 0.5752105896510229, 'support': 959}, 'accuracy': 0.9051599421314901, 'macro avg': {'precision': 0.5156780968843833, 'recall': 0.3379720060087294, 'f1-score': 0.37054943396058426, 'support': 12442}, 'weighted avg': {'precision': 0.8819003044792768, 'recall': 0.9051599421314901, 'f1-score': 0.888997493857222, 'support': 12442}}\n"
     ]
    }
   ],
   "source": [
    "Y_pred_knn = knn.predict(X_train_test)\n",
    "knn_report = classification_report(Y_train_test, Y_pred_knn, output_dict=True)\n",
    "print(knn_report)"
   ]
  },
  {
   "cell_type": "code",
   "execution_count": 25,
   "id": "dfac1ca8",
   "metadata": {},
   "outputs": [
    {
     "name": "stderr",
     "output_type": "stream",
     "text": [
      "/cs/home/akhkr1/CS5014/python/lib64/python3.9/site-packages/sklearn/utils/validation.py:1141: DataConversionWarning: A column-vector y was passed when a 1d array was expected. Please change the shape of y to (n_samples, ), for example using ravel().\n",
      "  y = column_or_1d(y, warn=True)\n"
     ]
    },
    {
     "data": {
      "text/html": [
       "<style>#sk-container-id-3 {color: black;background-color: white;}#sk-container-id-3 pre{padding: 0;}#sk-container-id-3 div.sk-toggleable {background-color: white;}#sk-container-id-3 label.sk-toggleable__label {cursor: pointer;display: block;width: 100%;margin-bottom: 0;padding: 0.3em;box-sizing: border-box;text-align: center;}#sk-container-id-3 label.sk-toggleable__label-arrow:before {content: \"▸\";float: left;margin-right: 0.25em;color: #696969;}#sk-container-id-3 label.sk-toggleable__label-arrow:hover:before {color: black;}#sk-container-id-3 div.sk-estimator:hover label.sk-toggleable__label-arrow:before {color: black;}#sk-container-id-3 div.sk-toggleable__content {max-height: 0;max-width: 0;overflow: hidden;text-align: left;background-color: #f0f8ff;}#sk-container-id-3 div.sk-toggleable__content pre {margin: 0.2em;color: black;border-radius: 0.25em;background-color: #f0f8ff;}#sk-container-id-3 input.sk-toggleable__control:checked~div.sk-toggleable__content {max-height: 200px;max-width: 100%;overflow: auto;}#sk-container-id-3 input.sk-toggleable__control:checked~label.sk-toggleable__label-arrow:before {content: \"▾\";}#sk-container-id-3 div.sk-estimator input.sk-toggleable__control:checked~label.sk-toggleable__label {background-color: #d4ebff;}#sk-container-id-3 div.sk-label input.sk-toggleable__control:checked~label.sk-toggleable__label {background-color: #d4ebff;}#sk-container-id-3 input.sk-hidden--visually {border: 0;clip: rect(1px 1px 1px 1px);clip: rect(1px, 1px, 1px, 1px);height: 1px;margin: -1px;overflow: hidden;padding: 0;position: absolute;width: 1px;}#sk-container-id-3 div.sk-estimator {font-family: monospace;background-color: #f0f8ff;border: 1px dotted black;border-radius: 0.25em;box-sizing: border-box;margin-bottom: 0.5em;}#sk-container-id-3 div.sk-estimator:hover {background-color: #d4ebff;}#sk-container-id-3 div.sk-parallel-item::after {content: \"\";width: 100%;border-bottom: 1px solid gray;flex-grow: 1;}#sk-container-id-3 div.sk-label:hover label.sk-toggleable__label {background-color: #d4ebff;}#sk-container-id-3 div.sk-serial::before {content: \"\";position: absolute;border-left: 1px solid gray;box-sizing: border-box;top: 0;bottom: 0;left: 50%;z-index: 0;}#sk-container-id-3 div.sk-serial {display: flex;flex-direction: column;align-items: center;background-color: white;padding-right: 0.2em;padding-left: 0.2em;position: relative;}#sk-container-id-3 div.sk-item {position: relative;z-index: 1;}#sk-container-id-3 div.sk-parallel {display: flex;align-items: stretch;justify-content: center;background-color: white;position: relative;}#sk-container-id-3 div.sk-item::before, #sk-container-id-3 div.sk-parallel-item::before {content: \"\";position: absolute;border-left: 1px solid gray;box-sizing: border-box;top: 0;bottom: 0;left: 50%;z-index: -1;}#sk-container-id-3 div.sk-parallel-item {display: flex;flex-direction: column;z-index: 1;position: relative;background-color: white;}#sk-container-id-3 div.sk-parallel-item:first-child::after {align-self: flex-end;width: 50%;}#sk-container-id-3 div.sk-parallel-item:last-child::after {align-self: flex-start;width: 50%;}#sk-container-id-3 div.sk-parallel-item:only-child::after {width: 0;}#sk-container-id-3 div.sk-dashed-wrapped {border: 1px dashed gray;margin: 0 0.4em 0.5em 0.4em;box-sizing: border-box;padding-bottom: 0.4em;background-color: white;}#sk-container-id-3 div.sk-label label {font-family: monospace;font-weight: bold;display: inline-block;line-height: 1.2em;}#sk-container-id-3 div.sk-label-container {text-align: center;}#sk-container-id-3 div.sk-container {/* jupyter's `normalize.less` sets `[hidden] { display: none; }` but bootstrap.min.css set `[hidden] { display: none !important; }` so we also need the `!important` here to be able to override the default hidden behavior on the sphinx rendered scikit-learn.org. See: https://github.com/scikit-learn/scikit-learn/issues/21755 */display: inline-block !important;position: relative;}#sk-container-id-3 div.sk-text-repr-fallback {display: none;}</style><div id=\"sk-container-id-3\" class=\"sk-top-container\"><div class=\"sk-text-repr-fallback\"><pre>GaussianNB()</pre><b>In a Jupyter environment, please rerun this cell to show the HTML representation or trust the notebook. <br />On GitHub, the HTML representation is unable to render, please try loading this page with nbviewer.org.</b></div><div class=\"sk-container\" hidden><div class=\"sk-item\"><div class=\"sk-estimator sk-toggleable\"><input class=\"sk-toggleable__control sk-hidden--visually\" id=\"sk-estimator-id-3\" type=\"checkbox\" checked><label for=\"sk-estimator-id-3\" class=\"sk-toggleable__label sk-toggleable__label-arrow\">GaussianNB</label><div class=\"sk-toggleable__content\"><pre>GaussianNB()</pre></div></div></div></div></div>"
      ],
      "text/plain": [
       "GaussianNB()"
      ]
     },
     "execution_count": 25,
     "metadata": {},
     "output_type": "execute_result"
    }
   ],
   "source": [
    "from sklearn.naive_bayes import GaussianNB\n",
    "from sklearn.preprocessing import StandardScaler\n",
    "scaler = StandardScaler()\n",
    "gnb = GaussianNB()\n",
    "gnb.fit(scaler.fit_transform(X_train_train), Y_train_train)"
   ]
  },
  {
   "cell_type": "code",
   "execution_count": 26,
   "id": "432f7f23",
   "metadata": {
    "scrolled": true
   },
   "outputs": [
    {
     "name": "stdout",
     "output_type": "stream",
     "text": [
      "{'background': {'precision': 0.9889608831293496, 'recall': 0.7546927937002106, 'f1-score': 0.8560893274474163, 'support': 10921}, 'dead pup': {'precision': 0.01756311745334797, 'recall': 0.47058823529411764, 'f1-score': 0.03386243386243386, 'support': 68}, 'juvenile': {'precision': 0.050314465408805034, 'recall': 0.7272727272727273, 'f1-score': 0.09411764705882354, 'support': 44}, 'moulted pup': {'precision': 0.22941176470588234, 'recall': 0.3466666666666667, 'f1-score': 0.2761061946902655, 'support': 450}, 'whitecoat': {'precision': 0.6154639175257732, 'recall': 0.6225234619395204, 'f1-score': 0.6189735614307932, 'support': 959}, 'accuracy': 0.728098376466806, 'macro avg': {'precision': 0.3803428296446317, 'recall': 0.5843487769746485, 'f1-score': 0.37582983289794647, 'support': 12442}, 'weighted avg': {'precision': 0.9240729082257921, 'recall': 0.728098376466806, 'f1-score': 0.8096478701213002, 'support': 12442}}\n"
     ]
    }
   ],
   "source": [
    "Y_pred_gnb = gnb.predict(scaler.transform(X_train_test))\n",
    "gnb_report = classification_report(Y_train_test, Y_pred_gnb, output_dict=True)\n",
    "print(gnb_report)"
   ]
  },
  {
   "cell_type": "code",
   "execution_count": 27,
   "id": "7a2f6bd1",
   "metadata": {},
   "outputs": [
    {
     "data": {
      "image/png": "[encoded data removed]",
      "text/plain": [
       "<Figure size 640x480 with 1 Axes>"
      ]
     },
     "metadata": {},
     "output_type": "display_data"
    }
   ],
   "source": [
    "import matplotlib.pyplot as plt\n",
    "x = [\"rdf\", \"svm\", \"knn\", \"gnb\"]\n",
    "y = [rd_report[\"macro avg\"][\"f1-score\"], svm_report[\"macro avg\"][\"f1-score\"], knn_report[\"macro avg\"][\"f1-score\"],\n",
    "    gnb_report[\"macro avg\"][\"f1-score\"]]\n",
    "plt.bar(x, y)\n",
    "plt.title(\"Performance of classifiers based on the macro avg f1-score\")\n",
    "plt.show()"
   ]
  },
  {
   "cell_type": "code",
   "execution_count": 28,
   "id": "eb991503",
   "metadata": {},
   "outputs": [
    {
     "data": {
      "image/png": "[encoded data removed]",
      "text/plain": [
       "<Figure size 640x480 with 1 Axes>"
      ]
     },
     "metadata": {},
     "output_type": "display_data"
    }
   ],
   "source": [
    "import matplotlib.pyplot as plt1\n",
    "x1 = [\"rdf\", \"svm\", \"knn\", \"gnb\"]\n",
    "y1 = [rd_report[\"accuracy\"], svm_report[\"accuracy\"], knn_report[\"accuracy\"], gnb_report[\"accuracy\"]]\n",
    "plt1.bar(x1, y1)\n",
    "plt1.title(\"Performance of classifiers based on accuracy\")\n",
    "plt1.show()"
   ]
  },
  {
   "cell_type": "code",
   "execution_count": 29,
   "id": "c82a36e0",
   "metadata": {},
   "outputs": [
    {
     "data": {
      "image/png": "[encoded data removed]",
      "text/plain": [
       "<Figure size 640x480 with 1 Axes>"
      ]
     },
     "metadata": {},
     "output_type": "display_data"
    }
   ],
   "source": [
    "import matplotlib.pyplot as plt2\n",
    "x2 = [\"rdf\", \"svm\", \"knn\", \"gnb\"]\n",
    "y2 = [rd_report[\"weighted avg\"][\"f1-score\"], svm_report[\"weighted avg\"][\"f1-score\"], knn_report[\"weighted avg\"][\"f1-score\"],\n",
    "    gnb_report[\"weighted avg\"][\"f1-score\"]]\n",
    "plt2.bar(x2, y2)\n",
    "plt2.title(\"Performance of classifiers based on the weighted avg f1-score\")\n",
    "plt2.show()"
   ]
  },
  {
   "cell_type": "code",
   "execution_count": 30,
   "id": "c0457462",
   "metadata": {},
   "outputs": [
    {
     "name": "stderr",
     "output_type": "stream",
     "text": [
      "/cs/home/akhkr1/CS5014/python/lib64/python3.9/site-packages/sklearn/utils/validation.py:1141: DataConversionWarning: A column-vector y was passed when a 1d array was expected. Please change the shape of y to (n_samples, ), for example using ravel().\n",
      "  y = column_or_1d(y, warn=True)\n"
     ]
    },
    {
     "data": {
      "text/plain": [
       "array(['whitecoat', 'whitecoat', 'whitecoat', ..., 'background',\n",
       "       'background', 'background'], dtype=object)"
      ]
     },
     "execution_count": 30,
     "metadata": {},
     "output_type": "execute_result"
    }
   ],
   "source": [
    "# Final output\n",
    "svm_model_init.fit(scaler.fit_transform(X_train_b), Y_train_b)\n",
    "Y_pred_final_b = svm_model_init.predict(scaler.transform(X_test_b))\n",
    "Y_pred_final_b"
   ]
  },
  {
   "cell_type": "code",
   "execution_count": 31,
   "id": "a68b6e3c",
   "metadata": {},
   "outputs": [
    {
     "data": {
      "text/html": [
       "<div>\n",
       "<style scoped>\n",
       "    .dataframe tbody tr th:only-of-type {\n",
       "        vertical-align: middle;\n",
       "    }\n",
       "\n",
       "    .dataframe tbody tr th {\n",
       "        vertical-align: top;\n",
       "    }\n",
       "\n",
       "    .dataframe thead th {\n",
       "        text-align: right;\n",
       "    }\n",
       "</style>\n",
       "<table border=\"1\" class=\"dataframe\">\n",
       "  <thead>\n",
       "    <tr style=\"text-align: right;\">\n",
       "      <th></th>\n",
       "      <th>0</th>\n",
       "    </tr>\n",
       "  </thead>\n",
       "  <tbody>\n",
       "    <tr>\n",
       "      <th>0</th>\n",
       "      <td>whitecoat</td>\n",
       "    </tr>\n",
       "    <tr>\n",
       "      <th>1</th>\n",
       "      <td>whitecoat</td>\n",
       "    </tr>\n",
       "    <tr>\n",
       "      <th>2</th>\n",
       "      <td>whitecoat</td>\n",
       "    </tr>\n",
       "    <tr>\n",
       "      <th>3</th>\n",
       "      <td>moulted pup</td>\n",
       "    </tr>\n",
       "    <tr>\n",
       "      <th>4</th>\n",
       "      <td>whitecoat</td>\n",
       "    </tr>\n",
       "    <tr>\n",
       "      <th>...</th>\n",
       "      <td>...</td>\n",
       "    </tr>\n",
       "    <tr>\n",
       "      <th>20330</th>\n",
       "      <td>background</td>\n",
       "    </tr>\n",
       "    <tr>\n",
       "      <th>20331</th>\n",
       "      <td>background</td>\n",
       "    </tr>\n",
       "    <tr>\n",
       "      <th>20332</th>\n",
       "      <td>background</td>\n",
       "    </tr>\n",
       "    <tr>\n",
       "      <th>20333</th>\n",
       "      <td>background</td>\n",
       "    </tr>\n",
       "    <tr>\n",
       "      <th>20334</th>\n",
       "      <td>background</td>\n",
       "    </tr>\n",
       "  </tbody>\n",
       "</table>\n",
       "<p>20335 rows × 1 columns</p>\n",
       "</div>"
      ],
      "text/plain": [
       "                 0\n",
       "0        whitecoat\n",
       "1        whitecoat\n",
       "2        whitecoat\n",
       "3      moulted pup\n",
       "4        whitecoat\n",
       "...            ...\n",
       "20330   background\n",
       "20331   background\n",
       "20332   background\n",
       "20333   background\n",
       "20334   background\n",
       "\n",
       "[20335 rows x 1 columns]"
      ]
     },
     "execution_count": 31,
     "metadata": {},
     "output_type": "execute_result"
    }
   ],
   "source": [
    "import pandas as pd\n",
    "Y_pred_svm_multi = pd.DataFrame(Y_pred_final_b)\n",
    "Y_pred_svm_multi"
   ]
  },
  {
   "cell_type": "code",
   "execution_count": 32,
   "id": "9ac93a63",
   "metadata": {},
   "outputs": [],
   "source": [
    "Y_pred_svm_multi.to_csv('Y_test.csv')"
   ]
  },
  {
   "cell_type": "code",
   "execution_count": null,
   "id": "8ccf29a7",
   "metadata": {},
   "outputs": [],
   "source": [
    "X_test_b.shape"
   ]
  },
  {
   "cell_type": "code",
   "execution_count": null,
   "id": "a337e1c2",
   "metadata": {},
   "outputs": [],
   "source": []
  }
 ],
 "metadata": {
  "kernelspec": {
   "display_name": "Python 3 (ipykernel)",
   "language": "python",
   "name": "python3"
  },
  "language_info": {
   "codemirror_mode": {
    "name": "ipython",
    "version": 3
   },
   "file_extension": ".py",
   "mimetype": "text/x-python",
   "name": "python",
   "nbconvert_exporter": "python",
   "pygments_lexer": "ipython3",
   "version": "3.9.14"
  }
 },
 "nbformat": 4,
 "nbformat_minor": 5
}
